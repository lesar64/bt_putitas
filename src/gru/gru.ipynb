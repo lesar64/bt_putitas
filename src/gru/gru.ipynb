{
 "cells": [
  {
   "cell_type": "code",
   "execution_count": 89,
   "metadata": {
    "collapsed": true,
    "pycharm": {
     "is_executing": false
    }
   },
   "outputs": [],
   "source": [
    "import numpy as np\n",
    "import pandas as pd        \n",
    "import tensorflow.compat.v1 as tf \n",
    "import matplotlib.pyplot as plt\n",
    "tf.disable_v2_behavior()\n",
    "from sklearn.model_selection import train_test_split"
   ]
  },
  {
   "cell_type": "code",
   "execution_count": 90,
   "outputs": [
    {
     "name": "stderr",
     "text": [
      "c:\\users\\janfd\\appdata\\local\\programs\\python\\python37\\lib\\site-packages\\ipykernel_launcher.py:2: FutureWarning: Method .as_matrix will be removed in a future version. Use .values instead.\n",
      "  \n",
      "c:\\users\\janfd\\appdata\\local\\programs\\python\\python37\\lib\\site-packages\\ipykernel_launcher.py:3: FutureWarning: Method .as_matrix will be removed in a future version. Use .values instead.\n",
      "  This is separate from the ipykernel package so we can avoid doing imports until\n",
      "c:\\users\\janfd\\appdata\\local\\programs\\python\\python37\\lib\\site-packages\\ipykernel_launcher.py:4: FutureWarning: Method .as_matrix will be removed in a future version. Use .values instead.\n",
      "  after removing the cwd from sys.path.\n",
      "c:\\users\\janfd\\appdata\\local\\programs\\python\\python37\\lib\\site-packages\\ipykernel_launcher.py:5: FutureWarning: Method .as_matrix will be removed in a future version. Use .values instead.\n",
      "  \"\"\"\n",
      "c:\\users\\janfd\\appdata\\local\\programs\\python\\python37\\lib\\site-packages\\ipykernel_launcher.py:7: FutureWarning: Method .as_matrix will be removed in a future version. Use .values instead.\n",
      "  import sys\n",
      "c:\\users\\janfd\\appdata\\local\\programs\\python\\python37\\lib\\site-packages\\ipykernel_launcher.py:8: FutureWarning: Method .as_matrix will be removed in a future version. Use .values instead.\n",
      "  \n",
      "c:\\users\\janfd\\appdata\\local\\programs\\python\\python37\\lib\\site-packages\\ipykernel_launcher.py:9: FutureWarning: Method .as_matrix will be removed in a future version. Use .values instead.\n",
      "  if __name__ == '__main__':\n",
      "c:\\users\\janfd\\appdata\\local\\programs\\python\\python37\\lib\\site-packages\\ipykernel_launcher.py:10: FutureWarning: Method .as_matrix will be removed in a future version. Use .values instead.\n",
      "  # Remove the CWD from sys.path while we load stuff.\n"
     ],
     "output_type": "stream"
    }
   ],
   "source": [
    "in_train_df = pd.read_hdf('df_train_in.h5', key='df')\n",
    "in_train_matrix = in_train_df[['Month', 'Day', 'Weekday', 'Hours', 'Minutes', 'Temp', 'Precip', '-10']].as_matrix()\n",
    "x1_train_matrix = in_train_df[['-5']].as_matrix()\n",
    "x2_train_matrix = in_train_df[['Now']].as_matrix()\n",
    "out_train_matrix = pd.read_hdf('df_train_out.h5', key = 'df').as_matrix()\n",
    "in_eval_df = pd.read_hdf('df_evalu_in.h5', key='df')\n",
    "in_eval_matrix = in_eval_df[['Month', 'Day', 'Weekday', 'Hours', 'Minutes', 'Temp', 'Precip', '-10']].as_matrix()\n",
    "x1_eval_matrix = in_eval_df[['-5']].as_matrix()\n",
    "x2_eval_matrix = in_eval_df[['Now']].as_matrix()\n",
    "out_eval_matrix = pd.read_hdf('df_evalu_out.h5', key = 'df').as_matrix()"
   ],
   "metadata": {
    "collapsed": false,
    "pycharm": {
     "name": "#%%\n",
     "is_executing": false
    }
   }
  },
  {
   "cell_type": "code",
   "execution_count": 91,
   "outputs": [],
   "source": [
    "in_train, in_test, out_train, out_test, x1_train, x1_test, x2_train, x2_test = train_test_split(\n",
    "    in_train_matrix, out_train_matrix, x1_train_matrix, x2_train_matrix, test_size=0.2)"
   ],
   "metadata": {
    "collapsed": false,
    "pycharm": {
     "name": "#%%\n",
     "is_executing": false
    }
   }
  },
  {
   "cell_type": "code",
   "execution_count": 92,
   "outputs": [],
   "source": [
    "# Python optimisation variables\n",
    "epochs = 25 #25\n",
    "batch_size = 100\n",
    "\n",
    "# Define Input and Output\n",
    "inp = tf.placeholder(tf.float32, [None, 8], name='input')\n",
    "out = tf.placeholder(tf.float32, [None, 1], name='Output')\n",
    "x1 = tf.placeholder(tf.float32, [None, 1], name='x1')\n",
    "x2 = tf.placeholder(tf.float32, [None, 1], name='x2')\n",
    "const_1 = tf.constant(1.0, name=\"const_1\")"
   ],
   "metadata": {
    "collapsed": false,
    "pycharm": {
     "name": "#%%\n",
     "is_executing": false
    }
   }
  },
  {
   "cell_type": "code",
   "execution_count": 93,
   "outputs": [],
   "source": [
    "# Scale Layer\n",
    "w0 = tf.Variable(tf.random_normal([8, 10], stddev=0.03), name='w0')\n",
    "b0 = tf.Variable(tf.random_normal([10]), name='b0')\n",
    "\n",
    "y0 = tf.add(tf.matmul(inp, w0), b0)\n",
    "\n",
    "# First Layer\n",
    "wr1 = tf.Variable(tf.random_normal([10, 10], stddev=0.03), name='wr1')\n",
    "wh1 = tf.Variable(tf.random_normal([10, 10], stddev=0.03), name='wh1')\n",
    "wz1 = tf.Variable(tf.random_normal([10, 10], stddev=0.03), name='wz1')\n",
    "br1 = tf.Variable(tf.random_normal([1, 10]), name='br1')\n",
    "bh1 = tf.Variable(tf.random_normal([1, 10]), name='bh1')\n",
    "bz1 = tf.Variable(tf.random_normal([1, 10]), name='bz1')\n",
    "\n",
    "# r = logsigmoid(Br*x1 + Wr*inp)\n",
    "r1 = tf.log_sigmoid(tf.add(tf.matmul(x1, br1), tf.matmul(y0, wr1)))\n",
    "# H = tanh(Bh*x1 + Wh(r*inp)\n",
    "H1 = tf.tanh(tf.add(tf.matmul(x1, bh1), tf.matmul(tf.multiply(y0, r1), wh1)))\n",
    "# z = logsigmoid(Bz*x1 + Wz*inp)\n",
    "z1 = tf.log_sigmoid(tf.add(tf.matmul(x1, bz1), tf.matmul(y0, wz1)))\n",
    "# y1=(1 - z)inp + z*H\n",
    "y1 = tf.add(tf.multiply(y0, tf.subtract(const_1, z1)), tf.multiply(H1, z1))\n",
    "\n",
    "# Second Layer\n",
    "wr2 = tf.Variable(tf.random_normal([10, 10], stddev=0.03), name='wr2')\n",
    "wh2 = tf.Variable(tf.random_normal([10, 10], stddev=0.03), name='wh2')\n",
    "wz2 = tf.Variable(tf.random_normal([10, 10], stddev=0.03), name='wz2')\n",
    "br2 = tf.Variable(tf.random_normal([1, 10]), name='br2')\n",
    "bh2 = tf.Variable(tf.random_normal([1, 10]), name='bh2')\n",
    "bz2 = tf.Variable(tf.random_normal([1, 10]), name='bz2')\n",
    "\n",
    "# r = logsigmoid(Br*x1 + Wr*inp)\n",
    "r2 = tf.log_sigmoid(tf.add(tf.matmul(x2, br2), tf.matmul(y1, wr2)))\n",
    "# H = tanh(Bh*x1 + Wh(r*inp)\n",
    "H2 = tf.tanh(tf.add(tf.matmul(x2, bh2), tf.matmul(tf.multiply(y1, r2), wh2)))\n",
    "# z = logsigmoid(Bz*x1 + Wz*inp)\n",
    "z2 = tf.log_sigmoid(tf.add(tf.matmul(x2, bz2), tf.matmul(y1, wz2)))\n",
    "# y1=(1 - z)inp + z*H\n",
    "y2 = tf.add(tf.multiply(y1, tf.subtract(const_1, z2)), tf.multiply(H2, z2))\n",
    "\n",
    "# Output Layer\n",
    "wo = tf.Variable(tf.random_normal([10, 1], stddev=0.03), name='wo')\n",
    "bo = tf.Variable(tf.random_normal([1]), name='bo')\n",
    "\n",
    "yo = tf.add(tf.matmul(y2, wo), bo)"
   ],
   "metadata": {
    "collapsed": false,
    "pycharm": {
     "name": "#%%\n",
     "is_executing": false
    }
   }
  },
  {
   "cell_type": "code",
   "execution_count": 94,
   "outputs": [],
   "source": [
    "# Loss Function\n",
    "cross_entropy = tf.sqrt(tf.reduce_mean(tf.square(tf.subtract(out, yo)))) #RMSE\n",
    "# cross_entropy = tf.reduce_mean(tf.square(out - yo)) #MSE\n",
    "\n",
    "# Optimizer\n",
    "# optimiser = tf.train.GradientDescentOptimizer(learning_rate=learning_rate).minimize(cross_entropy)\n",
    "optimiser = tf.train.AdamOptimizer().minimize(cross_entropy)\n"
   ],
   "metadata": {
    "collapsed": false,
    "pycharm": {
     "name": "#%%\n",
     "is_executing": false
    }
   }
  },
  {
   "cell_type": "code",
   "execution_count": 95,
   "outputs": [],
   "source": [
    "# Initialisation Operator\n",
    "init_op = tf.global_variables_initializer()\n",
    "\n",
    "# Accuracy (same as Loss)\n",
    "# correct_prediction = tf.equal(tf.argmax(out, 1), tf.argmax(yo, 1))\n",
    "# accuracy = tf.reduce_mean(tf.cast(correct_prediction, tf.float32))\n",
    "# accuracy = tf.reduce_mean(tf.cast(tf.abs(tf.subtract(yo, out)), tf.float32))\n",
    "# accuracy = tf.reduce_mean(tf.cast(tf.subtract(constant_one, tf.abs(tf.subtract(yo, out))), tf.float32))\n",
    "# accuracy =  tf.reduce_mean(tf.abs(tf.cast(tf.subtract(constant_one,tf.sqrt(tf.reduce_mean(\n",
    "#     tf.square(tf.subtract(out, yo))))), tf.float32)))\n",
    "accuracy =  (tf.subtract(const_1,tf.sqrt(tf.reduce_mean(tf.square(\n",
    "    tf.subtract(out, tf.clip_by_value(yo, 0, 1)))))))\n"
   ],
   "metadata": {
    "collapsed": false,
    "pycharm": {
     "name": "#%%\n",
     "is_executing": false
    }
   }
  },
  {
   "cell_type": "code",
   "execution_count": 96,
   "outputs": [],
   "source": [
    "# accuracy_data = np.empty(epochs)\n",
    "# \n",
    "# # Start Session\n",
    "# with tf.Session() as sess:\n",
    "#     # initialise the variables\n",
    "#     sess.run(init_op)\n",
    "#     total_batch = int(len(in_train) / batch_size) #in_train\n",
    "#     acc_train = accuracy.eval(session= sess, feed_dict={inp: in_train, out: out_train, x1: x1_train, x2: x2_train})\n",
    "#     print(\"Beginning accuracy: {:3.2f}%\".format(acc_train*100.0))\n",
    "#     for epoch in range(epochs):\n",
    "#         avg_cost = 0\n",
    "#         for i in range(total_batch):\n",
    "#             batch_in = in_train[i*batch_size:(i+1)*batch_size]\n",
    "#             batch_out = out_train[i*batch_size:(i+1)*batch_size]\n",
    "#             batch_x1 = x1_train[i*batch_size:(i+1)*batch_size]\n",
    "#             batch_x2 = x2_train[i*batch_size:(i+1)*batch_size]\n",
    "# \n",
    "#             _, c = sess.run([optimiser, cross_entropy], \n",
    "#                             feed_dict={inp: batch_in, out: batch_out, x1: batch_x1, x2: batch_x2})\n",
    "# \n",
    "#             avg_cost += c / total_batch\n",
    "#         print(\"Epoch:\", (epoch + 1), \"cost =\", \"{:.3f}\".format(avg_cost))\n",
    "# \n",
    "#         # Save Accuracy over Iterations\n",
    "#         acc_train = accuracy.eval(session= sess, feed_dict={inp: in_train, out: out_train, x1: x1_train, x2: x2_train})\n",
    "#         print(\"Accuracy: {:3.2f}%\".format(acc_train*100.0))\n",
    "#         accuracy_data[epoch] = acc_train\n",
    "# \n",
    "#     # Calculate Accuracy on Train and Test\n",
    "#     acc_train = accuracy.eval(session= sess, feed_dict={inp: in_train, out: out_train, x1: x1_train, x2: x2_train})\n",
    "#     print(\"Train accuracy: {:3.2f}%\".format(acc_train*100.0))\n",
    "# \n",
    "#     acc_test = accuracy.eval(session= sess, feed_dict={inp: in_test, out: out_test, x1: x1_test, x2: x2_test})\n",
    "#     print(\"Test accuracy:  {:3.2f}%\".format(acc_test*100.0))\n",
    "# \n",
    "#     # Evaluate\n",
    "#     acc_eval = accuracy.eval(session= sess, feed_dict={inp: in_eval_matrix, out: out_eval_matrix, x1: x1_eval_matrix, x2: x2_eval_matrix})\n",
    "#     print(\"Eval accuracy:  {:3.2f}%\".format(acc_eval*100.0))    \n",
    "# \n",
    "#     # Save Dataframe with Accuracy over Iterations\n",
    "#     acc_iter = pd.DataFrame({'Accuracy': accuracy_data}).to_hdf('df_acc_gru.h5',key='df', mode='w')\n",
    "# \n",
    "#     # Save Dataframe with Predictions for Evaluation Dataset\n",
    "#     predictions_raw = sess.run(yo,feed_dict={inp: in_eval_matrix, out: out_eval_matrix, x1: x1_eval_matrix, x2: x2_eval_matrix})\n",
    "#     predictions = pd.concat([pd.DataFrame(out_eval_matrix), pd.DataFrame(predictions_raw)], axis=1)\n",
    "#     predictions.columns = ['Output', 'Prediction']\n",
    "#     predictions['Prediction'].to_hdf('df_evalu_pred_gru.h5',key='df', mode='w')\n",
    "#     "
   ],
   "metadata": {
    "collapsed": false,
    "pycharm": {
     "name": "#%%\n",
     "is_executing": false
    }
   }
  },
  {
   "cell_type": "code",
   "execution_count": 97,
   "outputs": [
    {
     "name": "stdout",
     "text": [
      "Eval accuracy:  95.49%\n",
      "Eval accuracy:  95.49%\n",
      "Eval accuracy:  95.42%\n",
      "Eval accuracy:  95.46%\n",
      "Eval accuracy:  95.39%\n",
      "Eval accuracy:  95.48%\n",
      "Eval accuracy:  95.43%\n",
      "Eval accuracy:  95.48%\n",
      "Eval accuracy:  95.36%\n",
      "Eval accuracy:  95.52%\n",
      "Eval accuracy:  95.40%\n",
      "Eval accuracy:  95.43%\n",
      "Eval accuracy:  95.51%\n",
      "Eval accuracy:  95.51%\n",
      "Eval accuracy:  95.48%\n",
      "Eval accuracy:  95.46%\n",
      "Eval accuracy:  95.47%\n",
      "Eval accuracy:  95.42%\n",
      "Eval accuracy:  95.46%\n",
      "Eval accuracy:  95.50%\n",
      "Mean Eval accuracy:  95.46%\n"
     ],
     "output_type": "stream"
    }
   ],
   "source": [
    "# Loop to get a mean Accuracy\n",
    "acc_all = 0.0\n",
    "acc_iter = pd.DataFrame(index=range(epochs),columns=['Accuracy']).fillna(value=0)\n",
    "n = 20 #20\n",
    "for mean_iter in range(n):\n",
    "\n",
    "    accuracy_data = np.empty(epochs)\n",
    "\n",
    "    # Start Session\n",
    "    with tf.Session() as sess:\n",
    "        # initialise the variables\n",
    "        sess.run(init_op)\n",
    "        total_batch = int(len(in_train) / batch_size) #in_train\n",
    "        # acc_train = accuracy.eval(session= sess, feed_dict={inp: in_train, out: out_train, x1: x1_train, x2: x2_train})\n",
    "        # print(\"Beginning accuracy: {:3.2f}%\".format(acc_train*100.0))\n",
    "        for epoch in range(epochs):\n",
    "            avg_cost = 0\n",
    "            for i in range(total_batch):\n",
    "                batch_in = in_train[i*batch_size:(i+1)*batch_size]\n",
    "                batch_out = out_train[i*batch_size:(i+1)*batch_size]\n",
    "                batch_x1 = x1_train[i*batch_size:(i+1)*batch_size]\n",
    "                batch_x2 = x2_train[i*batch_size:(i+1)*batch_size]\n",
    "\n",
    "                _, c = sess.run([optimiser, cross_entropy], \n",
    "                                feed_dict={inp: batch_in, out: batch_out, x1: batch_x1, x2: batch_x2})\n",
    "\n",
    "            #     avg_cost += c / total_batch\n",
    "            # print(\"Epoch:\", (epoch + 1), \"cost =\", \"{:.3f}\".format(avg_cost))\n",
    "\n",
    "            # Save Accuracy over Iterations\n",
    "            acc_train = accuracy.eval(session= sess, feed_dict={inp: in_train, out: out_train, x1: x1_train, x2: x2_train})\n",
    "            # print(\"Accuracy: {:3.2f}%\".format(acc_train*100.0))\n",
    "            accuracy_data[epoch] = acc_train\n",
    "\n",
    "        # # Calculate Accuracy on Train and Test\n",
    "        # acc_train = accuracy.eval(session= sess, feed_dict={inp: in_train, out: out_train, x1: x1_train, x2: x2_train})\n",
    "        # print(\"Train accuracy: {:3.2f}%\".format(acc_train*100.0))\n",
    "        # \n",
    "        # acc_test = accuracy.eval(session= sess, feed_dict={inp: in_test, out: out_test, x1: x1_test, x2: x2_test})\n",
    "        # print(\"Test accuracy:  {:3.2f}%\".format(acc_test*100.0))\n",
    "        # \n",
    "        # # Evaluate\n",
    "        acc_eval = accuracy.eval(session= sess, feed_dict={inp: in_eval_matrix, out: out_eval_matrix, x1: x1_eval_matrix, x2: x2_eval_matrix})\n",
    "        print(\"Eval accuracy:  {:3.2f}%\".format(acc_eval*100.0))    \n",
    "        acc_all += acc_eval\n",
    "\n",
    "        # Save Dataframe with Accuracy over Iterations\n",
    "        acc_iter['Accuracy'] = acc_iter['Accuracy'] + accuracy_data\n",
    "\n",
    "# Mean Accuracy\n",
    "print(\"Mean Eval accuracy:  {:3.2f}%\".format((acc_all/n)*100.0))  \n",
    "\n",
    "# Save Mean Accuracy per Iteration\n",
    "acc_iter['Accuracy'] = acc_iter['Accuracy'].divide(n)\n",
    "pd.DataFrame(acc_iter['Accuracy']).to_hdf('df_acc_gru_mean.h5',key='df', mode='w')  \n"
   ],
   "metadata": {
    "collapsed": false,
    "pycharm": {
     "name": "#%%\n",
     "is_executing": false
    }
   }
  }
 ],
 "metadata": {
  "kernelspec": {
   "display_name": "Python 3",
   "language": "python",
   "name": "python3"
  },
  "language_info": {
   "codemirror_mode": {
    "name": "ipython",
    "version": 2
   },
   "file_extension": ".py",
   "mimetype": "text/x-python",
   "name": "python",
   "nbconvert_exporter": "python",
   "pygments_lexer": "ipython2",
   "version": "2.7.6"
  },
  "pycharm": {
   "stem_cell": {
    "cell_type": "raw",
    "source": [],
    "metadata": {
     "collapsed": false
    }
   }
  }
 },
 "nbformat": 4,
 "nbformat_minor": 0
}