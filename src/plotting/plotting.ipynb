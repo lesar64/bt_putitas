{
 "cells": [
  {
   "cell_type": "code",
   "execution_count": 1,
   "metadata": {
    "collapsed": true,
    "pycharm": {
     "is_executing": false
    }
   },
   "outputs": [],
   "source": [
    "import pandas as pd\n",
    "import numpy as np\n",
    "import matplotlib.pyplot as plt\n",
    "import datetime as dt\n",
    "import seaborn as sns"
   ]
  },
  {
   "cell_type": "code",
   "execution_count": 2,
   "outputs": [],
   "source": [
    "df_in = pd.read_hdf('df_train_in.h5',key='df')\n",
    "df_out = pd.read_hdf('df_train_out.h5',key='df')\n",
    "df_final = pd.read_hdf('data_final.h5',key='df')\n",
    "df_eval_in = pd.read_hdf('df_evalu_in.h5',key='df').reset_index(drop=True)\n",
    "df_eval_out = pd.read_hdf('df_evalu_out.h5',key='df').reset_index(drop=True)\n",
    "df_acc_dff = pd.read_hdf('df_acc_dff_mean.h5',key='df')\n",
    "df_acc_rnn = pd.read_hdf('df_acc_rnn_mean.h5',key='df')\n",
    "df_acc_gru = pd.read_hdf('df_acc_gru_mean.h5',key='df')\n",
    "df_pre_dff = pd.read_hdf('df_evalu_pred_dff.h5',key='df')\n",
    "df_pre_rnn = pd.read_hdf('df_evalu_pred_rnn.h5',key='df')\n",
    "df_pre_gru = pd.read_hdf('df_evalu_pred_gru.h5',key='df')\n",
    "mean_acc = [['DFF', 0.9502],['RNN', 0.9529],['GRU', 0.9546]]"
   ],
   "metadata": {
    "collapsed": false,
    "pycharm": {
     "name": "#%%\n",
     "is_executing": false
    }
   }
  },
  {
   "cell_type": "code",
   "execution_count": 29,
   "outputs": [],
   "source": [
    "# data = pd.DataFrame(columns=['Time','Flow_out'])\n",
    "data = pd.DataFrame()\n",
    "data['Flow_out'] = df_eval_out['Output']\n",
    "# data['Flow_pre_d'] = df_pre_dff['Prediction']\n",
    "# data['Flow_pre_r'] = df_pre_rnn['Prediction']\n",
    "# data['Flow_pre_g'] = df_pre_gru['Prediction']\n",
    "# data['acc_d'] = df_acc_dff['Accuracy']\n",
    "# data['acc_r'] = df_acc_rnn['Accuracy']\n",
    "# data['acc_g'] = df_acc_gru['Accuracy']\n",
    "# data['Temp'] = (df_eval_in['Temp']/10).round(0)\n",
    "# data['Temp'] = (df_eval_in['Temp']).round(0)\n",
    "# data['Precip'] = (df_eval_in['Precip']/10).round(0)\n",
    "# data['Precip'] = df_eval_in['Precip'].round(0)\n",
    "# data['Time'] = df_eval_in['Weekday']\n",
    "# data['Time'] = df_eval_in['Month']\n",
    "# data['Time'] = df_eval_in['Hours'].astype(str) + ':' + df_eval_in['Minutes'].astype(str)\n",
    "# data['Time'] = pd.to_datetime(data['Time'], format='%H:%M' ).dt.time\n",
    "# data['Time'] = pd.to_datetime(data['Time'], format='%H:%M' ).dt.hour\n",
    "# data = data.groupby([data['Time']]).mean()\n",
    "# data = data.groupby([data['Precip']]).mean()\n",
    "# data = data[data['Precip']==0]\n",
    "# data = data.groupby([data['Temp']]).mean().iloc[:-1]\n",
    "# data['Temp'] = data.index\n",
    "# sns.lmplot(x='Temp',y='Flow_out',data=data)\n",
    "# sns.lmplot(x='Precip',y='Flow_out',data=data,fit_reg=True)"
   ],
   "metadata": {
    "collapsed": false,
    "pycharm": {
     "name": "#%%\n",
     "is_executing": false
    }
   }
  },
  {
   "cell_type": "code",
   "execution_count": 4,
   "outputs": [],
   "source": [
    "# plt.plot(data.index, data['Flow_out']*(80.4), label='Observation') \n",
    "# plt.plot(data.index, data['Flow_pre_d']*(80.4), label='Prediction DFF')\n",
    "# plt.plot(data.index, data['Flow_pre_r']*(80.4), label='Prediction RNN')\n",
    "# plt.plot(data.index, data['Flow_pre_g']*(80.4), label='Prediction GRU')\n",
    "# plt.plot(data.index, data['acc_d'], label='Accuracy DFF') \n",
    "# plt.plot(data.index, data['acc_r'], label='Accuracy RNN') \n",
    "# plt.plot(data.index, data['acc_g'], label='Accuracy GRU')\n",
    "# plt.plot(data['Precip'], data['Flow_out']*(80.4), label='Observation')  \n",
    "# plt.legend(loc=\"upper left\")\n",
    "# plt.ylim(58, 67)\n",
    "# plt.ylim(60, 63.5)\n",
    "# plt.legend(loc=\"lower left\")\n",
    "# plt.ylim(40, 70)\n",
    "# plt.legend(loc=\"lower right\")\n",
    "# plt.ylim(0.943, 0.9555)\n",
    "# plt.ylabel('Traffic Flow')\n",
    "# plt.xlabel('Temperature')\n",
    "# plt.savefig('pre_monthly_comparison.png')\n",
    "# plt.show()"
   ],
   "metadata": {
    "collapsed": false,
    "pycharm": {
     "name": "#%%\n",
     "is_executing": false
    }
   }
  },
  {
   "cell_type": "code",
   "execution_count": 5,
   "outputs": [],
   "source": [
    "# print(data[['Flow_out', 'Flow_pre_d', 'Flow_pre_r', 'Flow_pre_g']].mean()*(80.4))\n",
    "\n"
   ],
   "metadata": {
    "collapsed": false,
    "pycharm": {
     "name": "#%%\n",
     "is_executing": false
    }
   }
  }
 ],
 "metadata": {
  "kernelspec": {
   "display_name": "Python 3",
   "language": "python",
   "name": "python3"
  },
  "language_info": {
   "codemirror_mode": {
    "name": "ipython",
    "version": 2
   },
   "file_extension": ".py",
   "mimetype": "text/x-python",
   "name": "python",
   "nbconvert_exporter": "python",
   "pygments_lexer": "ipython2",
   "version": "2.7.6"
  },
  "pycharm": {
   "stem_cell": {
    "cell_type": "raw",
    "source": [],
    "metadata": {
     "collapsed": false
    }
   }
  }
 },
 "nbformat": 4,
 "nbformat_minor": 0
}