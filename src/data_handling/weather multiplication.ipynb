{
 "cells": [
  {
   "cell_type": "code",
   "execution_count": 1,
   "metadata": {
    "collapsed": true,
    "pycharm": {
     "is_executing": false
    }
   },
   "outputs": [],
   "source": [
    "import pandas as pd\n",
    "import numpy as np\n",
    "df_weather = pd.read_hdf('weather_trimmed.h5', key='df')"
   ]
  },
  {
   "cell_type": "code",
   "execution_count": 14,
   "outputs": [],
   "source": [
    "df_full = pd.DataFrame()\n",
    "# df_full.append(pd.concat(df_weather.iloc[0]*12))\n",
    "# df_full.append(np.repeat(df_weather.iloc['0'], 12))\n",
    "# df_full.append(df_weather.iloc[0])\n",
    "\n",
    "for row in range(181): #180\n",
    "    # df_help = pd.DataFrame()\n",
    "    # row_test = df_weather.iloc[row]\n",
    "    # for i in range(5): #287\n",
    "    #     df_help.append(df_weather.iloc[row], ignore_index=True)\n",
    "    # df_full.append(df_help, ignore_index=True)\n",
    "    df_full = df_full.append([df_weather.iloc[row]]*12*24,ignore_index=True)\n",
    "\n",
    "# testrow = df_weather.iloc[1]\n",
    "# df_new = pd.DataFrame()\n",
    "# df_row = df_weather.iloc[1]\n",
    "# df_new = df_new.append([df_row]*5,ignore_index=True)"
   ],
   "metadata": {
    "collapsed": false,
    "pycharm": {
     "name": "#%%\n",
     "is_executing": false
    }
   }
  },
  {
   "cell_type": "code",
   "execution_count": 16,
   "outputs": [],
   "source": [
    "df_full.shape\n",
    "df_full.to_hdf('weather_5min.h5',key='df', mode='w')\n"
   ],
   "metadata": {
    "collapsed": false,
    "pycharm": {
     "name": "#%%\n",
     "is_executing": false
    }
   }
  }
 ],
 "metadata": {
  "kernelspec": {
   "display_name": "Python 3",
   "language": "python",
   "name": "python3"
  },
  "language_info": {
   "codemirror_mode": {
    "name": "ipython",
    "version": 2
   },
   "file_extension": ".py",
   "mimetype": "text/x-python",
   "name": "python",
   "nbconvert_exporter": "python",
   "pygments_lexer": "ipython2",
   "version": "2.7.6"
  },
  "pycharm": {
   "stem_cell": {
    "cell_type": "raw",
    "source": [],
    "metadata": {
     "collapsed": false
    }
   }
  }
 },
 "nbformat": 4,
 "nbformat_minor": 0
}