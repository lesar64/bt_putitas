{
 "cells": [
  {
   "cell_type": "code",
   "execution_count": 1,
   "metadata": {
    "pycharm": {
     "name": "#%%\n",
     "is_executing": false
    }
   },
   "outputs": [],
   "source": [
    "import pandas as pd"
   ]
  },
  {
   "cell_type": "code",
   "execution_count": 2,
   "outputs": [],
   "source": [
    "import h5py\n",
    "traffic = 'C:/Users/janfd\\Documents/bt_traffic_prediction/Data/METR-LA, PEMS-BAY/pems-bay.h5'\n",
    "weather = 'C:/Users/janfd\\Documents/bt_traffic_prediction/Data/METR-LA, PEMS-BAY/Weather Oakland.xlsx'\n",
    "df_traffic = pd.read_hdf(traffic)\n",
    "df_weather = pd.read_excel(weather)"
   ],
   "metadata": {
    "collapsed": false,
    "pycharm": {
     "name": "#%%\n",
     "is_executing": false
    }
   }
  },
  {
   "cell_type": "code",
   "execution_count": 3,
   "outputs": [
    {
     "data": {
      "text/plain": "sensor_id  400001  400017  400030  400040  400045  400052  400057  400059  \\\n0.0           1.0     NaN     NaN     2.0     NaN     1.0     2.0     2.0   \n3.0           NaN     NaN     NaN     NaN     NaN     3.0     NaN     NaN   \n3.1           NaN     NaN     NaN     NaN     NaN     2.0     NaN     NaN   \n3.2           NaN     NaN     NaN     NaN     NaN     2.0     NaN     NaN   \n3.3           NaN     NaN     NaN     NaN     NaN     NaN     NaN     NaN   \n...           ...     ...     ...     ...     ...     ...     ...     ...   \n84.2          NaN     NaN     NaN     NaN     NaN     NaN     NaN     NaN   \n84.3          NaN     NaN     NaN     NaN     NaN     NaN     NaN     NaN   \n84.4          NaN     NaN     NaN     NaN     NaN     NaN     NaN     NaN   \n84.8          NaN     NaN     NaN     NaN     NaN     NaN     NaN     NaN   \n85.1          NaN     NaN     NaN     NaN     NaN     NaN     NaN     NaN   \n\nsensor_id  400065  400069  ...  409525  409526  409528  409529  413026  \\\n0.0           2.0     NaN  ...     2.0     4.0     2.0     3.0     3.0   \n3.0           NaN     NaN  ...     NaN     NaN     NaN     NaN     NaN   \n3.1           NaN     NaN  ...     NaN     NaN     NaN     NaN     NaN   \n3.2           NaN     NaN  ...     NaN     NaN     NaN     NaN     NaN   \n3.3           NaN     NaN  ...     NaN     NaN     NaN     NaN     NaN   \n...           ...     ...  ...     ...     ...     ...     ...     ...   \n84.2          NaN     NaN  ...     NaN     NaN     NaN     NaN     NaN   \n84.3          NaN     NaN  ...     NaN     NaN     NaN     NaN     NaN   \n84.4          NaN     NaN  ...     NaN     NaN     NaN     NaN     NaN   \n84.8          NaN     NaN  ...     NaN     NaN     NaN     NaN     NaN   \n85.1          NaN     NaN  ...     NaN     NaN     NaN     NaN     NaN   \n\nsensor_id  413845  413877  413878  414284  414694  \n0.0           3.0     3.0     3.0     3.0     2.0  \n3.0           NaN     NaN     NaN     NaN     NaN  \n3.1           NaN     NaN     NaN     NaN     NaN  \n3.2           NaN     NaN     NaN     NaN     NaN  \n3.3           NaN     NaN     NaN     NaN     NaN  \n...           ...     ...     ...     ...     ...  \n84.2          NaN     NaN     NaN     NaN     NaN  \n84.3          NaN     NaN     NaN     NaN     NaN  \n84.4          NaN     NaN     NaN     NaN     NaN  \n84.8          NaN     NaN     NaN     NaN     NaN  \n85.1          NaN     NaN     NaN     NaN     NaN  \n\n[815 rows x 325 columns]",
      "text/html": "<div>\n<style scoped>\n    .dataframe tbody tr th:only-of-type {\n        vertical-align: middle;\n    }\n\n    .dataframe tbody tr th {\n        vertical-align: top;\n    }\n\n    .dataframe thead th {\n        text-align: right;\n    }\n</style>\n<table border=\"1\" class=\"dataframe\">\n  <thead>\n    <tr style=\"text-align: right;\">\n      <th>sensor_id</th>\n      <th>400001</th>\n      <th>400017</th>\n      <th>400030</th>\n      <th>400040</th>\n      <th>400045</th>\n      <th>400052</th>\n      <th>400057</th>\n      <th>400059</th>\n      <th>400065</th>\n      <th>400069</th>\n      <th>...</th>\n      <th>409525</th>\n      <th>409526</th>\n      <th>409528</th>\n      <th>409529</th>\n      <th>413026</th>\n      <th>413845</th>\n      <th>413877</th>\n      <th>413878</th>\n      <th>414284</th>\n      <th>414694</th>\n    </tr>\n  </thead>\n  <tbody>\n    <tr>\n      <th>0.0</th>\n      <td>1.0</td>\n      <td>NaN</td>\n      <td>NaN</td>\n      <td>2.0</td>\n      <td>NaN</td>\n      <td>1.0</td>\n      <td>2.0</td>\n      <td>2.0</td>\n      <td>2.0</td>\n      <td>NaN</td>\n      <td>...</td>\n      <td>2.0</td>\n      <td>4.0</td>\n      <td>2.0</td>\n      <td>3.0</td>\n      <td>3.0</td>\n      <td>3.0</td>\n      <td>3.0</td>\n      <td>3.0</td>\n      <td>3.0</td>\n      <td>2.0</td>\n    </tr>\n    <tr>\n      <th>3.0</th>\n      <td>NaN</td>\n      <td>NaN</td>\n      <td>NaN</td>\n      <td>NaN</td>\n      <td>NaN</td>\n      <td>3.0</td>\n      <td>NaN</td>\n      <td>NaN</td>\n      <td>NaN</td>\n      <td>NaN</td>\n      <td>...</td>\n      <td>NaN</td>\n      <td>NaN</td>\n      <td>NaN</td>\n      <td>NaN</td>\n      <td>NaN</td>\n      <td>NaN</td>\n      <td>NaN</td>\n      <td>NaN</td>\n      <td>NaN</td>\n      <td>NaN</td>\n    </tr>\n    <tr>\n      <th>3.1</th>\n      <td>NaN</td>\n      <td>NaN</td>\n      <td>NaN</td>\n      <td>NaN</td>\n      <td>NaN</td>\n      <td>2.0</td>\n      <td>NaN</td>\n      <td>NaN</td>\n      <td>NaN</td>\n      <td>NaN</td>\n      <td>...</td>\n      <td>NaN</td>\n      <td>NaN</td>\n      <td>NaN</td>\n      <td>NaN</td>\n      <td>NaN</td>\n      <td>NaN</td>\n      <td>NaN</td>\n      <td>NaN</td>\n      <td>NaN</td>\n      <td>NaN</td>\n    </tr>\n    <tr>\n      <th>3.2</th>\n      <td>NaN</td>\n      <td>NaN</td>\n      <td>NaN</td>\n      <td>NaN</td>\n      <td>NaN</td>\n      <td>2.0</td>\n      <td>NaN</td>\n      <td>NaN</td>\n      <td>NaN</td>\n      <td>NaN</td>\n      <td>...</td>\n      <td>NaN</td>\n      <td>NaN</td>\n      <td>NaN</td>\n      <td>NaN</td>\n      <td>NaN</td>\n      <td>NaN</td>\n      <td>NaN</td>\n      <td>NaN</td>\n      <td>NaN</td>\n      <td>NaN</td>\n    </tr>\n    <tr>\n      <th>3.3</th>\n      <td>NaN</td>\n      <td>NaN</td>\n      <td>NaN</td>\n      <td>NaN</td>\n      <td>NaN</td>\n      <td>NaN</td>\n      <td>NaN</td>\n      <td>NaN</td>\n      <td>NaN</td>\n      <td>NaN</td>\n      <td>...</td>\n      <td>NaN</td>\n      <td>NaN</td>\n      <td>NaN</td>\n      <td>NaN</td>\n      <td>NaN</td>\n      <td>NaN</td>\n      <td>NaN</td>\n      <td>NaN</td>\n      <td>NaN</td>\n      <td>NaN</td>\n    </tr>\n    <tr>\n      <th>...</th>\n      <td>...</td>\n      <td>...</td>\n      <td>...</td>\n      <td>...</td>\n      <td>...</td>\n      <td>...</td>\n      <td>...</td>\n      <td>...</td>\n      <td>...</td>\n      <td>...</td>\n      <td>...</td>\n      <td>...</td>\n      <td>...</td>\n      <td>...</td>\n      <td>...</td>\n      <td>...</td>\n      <td>...</td>\n      <td>...</td>\n      <td>...</td>\n      <td>...</td>\n      <td>...</td>\n    </tr>\n    <tr>\n      <th>84.2</th>\n      <td>NaN</td>\n      <td>NaN</td>\n      <td>NaN</td>\n      <td>NaN</td>\n      <td>NaN</td>\n      <td>NaN</td>\n      <td>NaN</td>\n      <td>NaN</td>\n      <td>NaN</td>\n      <td>NaN</td>\n      <td>...</td>\n      <td>NaN</td>\n      <td>NaN</td>\n      <td>NaN</td>\n      <td>NaN</td>\n      <td>NaN</td>\n      <td>NaN</td>\n      <td>NaN</td>\n      <td>NaN</td>\n      <td>NaN</td>\n      <td>NaN</td>\n    </tr>\n    <tr>\n      <th>84.3</th>\n      <td>NaN</td>\n      <td>NaN</td>\n      <td>NaN</td>\n      <td>NaN</td>\n      <td>NaN</td>\n      <td>NaN</td>\n      <td>NaN</td>\n      <td>NaN</td>\n      <td>NaN</td>\n      <td>NaN</td>\n      <td>...</td>\n      <td>NaN</td>\n      <td>NaN</td>\n      <td>NaN</td>\n      <td>NaN</td>\n      <td>NaN</td>\n      <td>NaN</td>\n      <td>NaN</td>\n      <td>NaN</td>\n      <td>NaN</td>\n      <td>NaN</td>\n    </tr>\n    <tr>\n      <th>84.4</th>\n      <td>NaN</td>\n      <td>NaN</td>\n      <td>NaN</td>\n      <td>NaN</td>\n      <td>NaN</td>\n      <td>NaN</td>\n      <td>NaN</td>\n      <td>NaN</td>\n      <td>NaN</td>\n      <td>NaN</td>\n      <td>...</td>\n      <td>NaN</td>\n      <td>NaN</td>\n      <td>NaN</td>\n      <td>NaN</td>\n      <td>NaN</td>\n      <td>NaN</td>\n      <td>NaN</td>\n      <td>NaN</td>\n      <td>NaN</td>\n      <td>NaN</td>\n    </tr>\n    <tr>\n      <th>84.8</th>\n      <td>NaN</td>\n      <td>NaN</td>\n      <td>NaN</td>\n      <td>NaN</td>\n      <td>NaN</td>\n      <td>NaN</td>\n      <td>NaN</td>\n      <td>NaN</td>\n      <td>NaN</td>\n      <td>NaN</td>\n      <td>...</td>\n      <td>NaN</td>\n      <td>NaN</td>\n      <td>NaN</td>\n      <td>NaN</td>\n      <td>NaN</td>\n      <td>NaN</td>\n      <td>NaN</td>\n      <td>NaN</td>\n      <td>NaN</td>\n      <td>NaN</td>\n    </tr>\n    <tr>\n      <th>85.1</th>\n      <td>NaN</td>\n      <td>NaN</td>\n      <td>NaN</td>\n      <td>NaN</td>\n      <td>NaN</td>\n      <td>NaN</td>\n      <td>NaN</td>\n      <td>NaN</td>\n      <td>NaN</td>\n      <td>NaN</td>\n      <td>...</td>\n      <td>NaN</td>\n      <td>NaN</td>\n      <td>NaN</td>\n      <td>NaN</td>\n      <td>NaN</td>\n      <td>NaN</td>\n      <td>NaN</td>\n      <td>NaN</td>\n      <td>NaN</td>\n      <td>NaN</td>\n    </tr>\n  </tbody>\n</table>\n<p>815 rows × 325 columns</p>\n</div>"
     },
     "metadata": {},
     "output_type": "execute_result",
     "execution_count": 3
    }
   ],
   "source": [
    "df_traffic.apply(pd.value_counts)\n"
   ],
   "metadata": {
    "collapsed": false,
    "pycharm": {
     "name": "#%%\n",
     "is_executing": false
    }
   }
  },
  {
   "cell_type": "code",
   "execution_count": 5,
   "outputs": [
    {
     "data": {
      "text/plain": "16937700"
     },
     "metadata": {},
     "output_type": "execute_result",
     "execution_count": 5
    }
   ],
   "source": [
    "df_traffic.size"
   ],
   "metadata": {
    "collapsed": false,
    "pycharm": {
     "name": "#%%\n",
     "is_executing": false
    }
   }
  },
  {
   "cell_type": "code",
   "execution_count": 6,
   "outputs": [
    {
     "data": {
      "text/plain": "(52116, 325)"
     },
     "metadata": {},
     "output_type": "execute_result",
     "execution_count": 6
    }
   ],
   "source": [
    "df_traffic.shape"
   ],
   "metadata": {
    "collapsed": false,
    "pycharm": {
     "name": "#%%\n",
     "is_executing": false
    }
   }
  },
  {
   "cell_type": "code",
   "execution_count": 16,
   "outputs": [],
   "source": [
    "df_traffic = df_traffic.replace(to_replace= 0.0, method='ffill')"
   ],
   "metadata": {
    "collapsed": false,
    "pycharm": {
     "name": "#%%\n",
     "is_executing": false
    }
   }
  },
  {
   "cell_type": "code",
   "execution_count": 17,
   "outputs": [
    {
     "data": {
      "text/plain": "sensor_id  400001  400017  400030  400040  400045  400052  400057  400059  \\\n3.0           NaN     NaN     NaN     NaN     NaN     3.0     NaN     NaN   \n3.1           NaN     NaN     NaN     NaN     NaN     2.0     NaN     NaN   \n3.2           NaN     NaN     NaN     NaN     NaN     2.0     NaN     NaN   \n3.3           NaN     NaN     NaN     NaN     NaN     NaN     NaN     NaN   \n3.4           NaN     NaN     3.0     NaN     NaN     NaN     NaN     NaN   \n...           ...     ...     ...     ...     ...     ...     ...     ...   \n84.2          NaN     NaN     NaN     NaN     NaN     NaN     NaN     NaN   \n84.3          NaN     NaN     NaN     NaN     NaN     NaN     NaN     NaN   \n84.4          NaN     NaN     NaN     NaN     NaN     NaN     NaN     NaN   \n84.8          NaN     NaN     NaN     NaN     NaN     NaN     NaN     NaN   \n85.1          NaN     NaN     NaN     NaN     NaN     NaN     NaN     NaN   \n\nsensor_id  400065  400069  ...  409525  409526  409528  409529  413026  \\\n3.0           NaN     NaN  ...     NaN     NaN     NaN     NaN     NaN   \n3.1           NaN     NaN  ...     NaN     NaN     NaN     NaN     NaN   \n3.2           NaN     NaN  ...     NaN     NaN     NaN     NaN     NaN   \n3.3           NaN     NaN  ...     NaN     NaN     NaN     NaN     NaN   \n3.4           NaN     NaN  ...     NaN     NaN     NaN     NaN     NaN   \n...           ...     ...  ...     ...     ...     ...     ...     ...   \n84.2          NaN     NaN  ...     NaN     NaN     NaN     NaN     NaN   \n84.3          NaN     NaN  ...     NaN     NaN     NaN     NaN     NaN   \n84.4          NaN     NaN  ...     NaN     NaN     NaN     NaN     NaN   \n84.8          NaN     NaN  ...     NaN     NaN     NaN     NaN     NaN   \n85.1          NaN     NaN  ...     NaN     NaN     NaN     NaN     NaN   \n\nsensor_id  413845  413877  413878  414284  414694  \n3.0           NaN     NaN     NaN     NaN     NaN  \n3.1           NaN     NaN     NaN     NaN     NaN  \n3.2           NaN     NaN     NaN     NaN     NaN  \n3.3           NaN     NaN     NaN     NaN     NaN  \n3.4           NaN     NaN     NaN     NaN     NaN  \n...           ...     ...     ...     ...     ...  \n84.2          NaN     NaN     NaN     NaN     NaN  \n84.3          NaN     NaN     NaN     NaN     NaN  \n84.4          NaN     NaN     NaN     NaN     NaN  \n84.8          NaN     NaN     NaN     NaN     NaN  \n85.1          NaN     NaN     NaN     NaN     NaN  \n\n[814 rows x 325 columns]",
      "text/html": "<div>\n<style scoped>\n    .dataframe tbody tr th:only-of-type {\n        vertical-align: middle;\n    }\n\n    .dataframe tbody tr th {\n        vertical-align: top;\n    }\n\n    .dataframe thead th {\n        text-align: right;\n    }\n</style>\n<table border=\"1\" class=\"dataframe\">\n  <thead>\n    <tr style=\"text-align: right;\">\n      <th>sensor_id</th>\n      <th>400001</th>\n      <th>400017</th>\n      <th>400030</th>\n      <th>400040</th>\n      <th>400045</th>\n      <th>400052</th>\n      <th>400057</th>\n      <th>400059</th>\n      <th>400065</th>\n      <th>400069</th>\n      <th>...</th>\n      <th>409525</th>\n      <th>409526</th>\n      <th>409528</th>\n      <th>409529</th>\n      <th>413026</th>\n      <th>413845</th>\n      <th>413877</th>\n      <th>413878</th>\n      <th>414284</th>\n      <th>414694</th>\n    </tr>\n  </thead>\n  <tbody>\n    <tr>\n      <th>3.0</th>\n      <td>NaN</td>\n      <td>NaN</td>\n      <td>NaN</td>\n      <td>NaN</td>\n      <td>NaN</td>\n      <td>3.0</td>\n      <td>NaN</td>\n      <td>NaN</td>\n      <td>NaN</td>\n      <td>NaN</td>\n      <td>...</td>\n      <td>NaN</td>\n      <td>NaN</td>\n      <td>NaN</td>\n      <td>NaN</td>\n      <td>NaN</td>\n      <td>NaN</td>\n      <td>NaN</td>\n      <td>NaN</td>\n      <td>NaN</td>\n      <td>NaN</td>\n    </tr>\n    <tr>\n      <th>3.1</th>\n      <td>NaN</td>\n      <td>NaN</td>\n      <td>NaN</td>\n      <td>NaN</td>\n      <td>NaN</td>\n      <td>2.0</td>\n      <td>NaN</td>\n      <td>NaN</td>\n      <td>NaN</td>\n      <td>NaN</td>\n      <td>...</td>\n      <td>NaN</td>\n      <td>NaN</td>\n      <td>NaN</td>\n      <td>NaN</td>\n      <td>NaN</td>\n      <td>NaN</td>\n      <td>NaN</td>\n      <td>NaN</td>\n      <td>NaN</td>\n      <td>NaN</td>\n    </tr>\n    <tr>\n      <th>3.2</th>\n      <td>NaN</td>\n      <td>NaN</td>\n      <td>NaN</td>\n      <td>NaN</td>\n      <td>NaN</td>\n      <td>2.0</td>\n      <td>NaN</td>\n      <td>NaN</td>\n      <td>NaN</td>\n      <td>NaN</td>\n      <td>...</td>\n      <td>NaN</td>\n      <td>NaN</td>\n      <td>NaN</td>\n      <td>NaN</td>\n      <td>NaN</td>\n      <td>NaN</td>\n      <td>NaN</td>\n      <td>NaN</td>\n      <td>NaN</td>\n      <td>NaN</td>\n    </tr>\n    <tr>\n      <th>3.3</th>\n      <td>NaN</td>\n      <td>NaN</td>\n      <td>NaN</td>\n      <td>NaN</td>\n      <td>NaN</td>\n      <td>NaN</td>\n      <td>NaN</td>\n      <td>NaN</td>\n      <td>NaN</td>\n      <td>NaN</td>\n      <td>...</td>\n      <td>NaN</td>\n      <td>NaN</td>\n      <td>NaN</td>\n      <td>NaN</td>\n      <td>NaN</td>\n      <td>NaN</td>\n      <td>NaN</td>\n      <td>NaN</td>\n      <td>NaN</td>\n      <td>NaN</td>\n    </tr>\n    <tr>\n      <th>3.4</th>\n      <td>NaN</td>\n      <td>NaN</td>\n      <td>3.0</td>\n      <td>NaN</td>\n      <td>NaN</td>\n      <td>NaN</td>\n      <td>NaN</td>\n      <td>NaN</td>\n      <td>NaN</td>\n      <td>NaN</td>\n      <td>...</td>\n      <td>NaN</td>\n      <td>NaN</td>\n      <td>NaN</td>\n      <td>NaN</td>\n      <td>NaN</td>\n      <td>NaN</td>\n      <td>NaN</td>\n      <td>NaN</td>\n      <td>NaN</td>\n      <td>NaN</td>\n    </tr>\n    <tr>\n      <th>...</th>\n      <td>...</td>\n      <td>...</td>\n      <td>...</td>\n      <td>...</td>\n      <td>...</td>\n      <td>...</td>\n      <td>...</td>\n      <td>...</td>\n      <td>...</td>\n      <td>...</td>\n      <td>...</td>\n      <td>...</td>\n      <td>...</td>\n      <td>...</td>\n      <td>...</td>\n      <td>...</td>\n      <td>...</td>\n      <td>...</td>\n      <td>...</td>\n      <td>...</td>\n      <td>...</td>\n    </tr>\n    <tr>\n      <th>84.2</th>\n      <td>NaN</td>\n      <td>NaN</td>\n      <td>NaN</td>\n      <td>NaN</td>\n      <td>NaN</td>\n      <td>NaN</td>\n      <td>NaN</td>\n      <td>NaN</td>\n      <td>NaN</td>\n      <td>NaN</td>\n      <td>...</td>\n      <td>NaN</td>\n      <td>NaN</td>\n      <td>NaN</td>\n      <td>NaN</td>\n      <td>NaN</td>\n      <td>NaN</td>\n      <td>NaN</td>\n      <td>NaN</td>\n      <td>NaN</td>\n      <td>NaN</td>\n    </tr>\n    <tr>\n      <th>84.3</th>\n      <td>NaN</td>\n      <td>NaN</td>\n      <td>NaN</td>\n      <td>NaN</td>\n      <td>NaN</td>\n      <td>NaN</td>\n      <td>NaN</td>\n      <td>NaN</td>\n      <td>NaN</td>\n      <td>NaN</td>\n      <td>...</td>\n      <td>NaN</td>\n      <td>NaN</td>\n      <td>NaN</td>\n      <td>NaN</td>\n      <td>NaN</td>\n      <td>NaN</td>\n      <td>NaN</td>\n      <td>NaN</td>\n      <td>NaN</td>\n      <td>NaN</td>\n    </tr>\n    <tr>\n      <th>84.4</th>\n      <td>NaN</td>\n      <td>NaN</td>\n      <td>NaN</td>\n      <td>NaN</td>\n      <td>NaN</td>\n      <td>NaN</td>\n      <td>NaN</td>\n      <td>NaN</td>\n      <td>NaN</td>\n      <td>NaN</td>\n      <td>...</td>\n      <td>NaN</td>\n      <td>NaN</td>\n      <td>NaN</td>\n      <td>NaN</td>\n      <td>NaN</td>\n      <td>NaN</td>\n      <td>NaN</td>\n      <td>NaN</td>\n      <td>NaN</td>\n      <td>NaN</td>\n    </tr>\n    <tr>\n      <th>84.8</th>\n      <td>NaN</td>\n      <td>NaN</td>\n      <td>NaN</td>\n      <td>NaN</td>\n      <td>NaN</td>\n      <td>NaN</td>\n      <td>NaN</td>\n      <td>NaN</td>\n      <td>NaN</td>\n      <td>NaN</td>\n      <td>...</td>\n      <td>NaN</td>\n      <td>NaN</td>\n      <td>NaN</td>\n      <td>NaN</td>\n      <td>NaN</td>\n      <td>NaN</td>\n      <td>NaN</td>\n      <td>NaN</td>\n      <td>NaN</td>\n      <td>NaN</td>\n    </tr>\n    <tr>\n      <th>85.1</th>\n      <td>NaN</td>\n      <td>NaN</td>\n      <td>NaN</td>\n      <td>NaN</td>\n      <td>NaN</td>\n      <td>NaN</td>\n      <td>NaN</td>\n      <td>NaN</td>\n      <td>NaN</td>\n      <td>NaN</td>\n      <td>...</td>\n      <td>NaN</td>\n      <td>NaN</td>\n      <td>NaN</td>\n      <td>NaN</td>\n      <td>NaN</td>\n      <td>NaN</td>\n      <td>NaN</td>\n      <td>NaN</td>\n      <td>NaN</td>\n      <td>NaN</td>\n    </tr>\n  </tbody>\n</table>\n<p>814 rows × 325 columns</p>\n</div>"
     },
     "metadata": {},
     "output_type": "execute_result",
     "execution_count": 17
    }
   ],
   "source": [
    "df_traffic.apply(pd.value_counts)"
   ],
   "metadata": {
    "collapsed": false,
    "pycharm": {
     "name": "#%%\n",
     "is_executing": false
    }
   }
  },
  {
   "cell_type": "code",
   "execution_count": 21,
   "outputs": [
    {
     "data": {
      "text/plain": "Empty DataFrame\nColumns: [400001, 400017, 400030, 400040, 400045, 400052, 400057, 400059, 400065, 400069, 400073, 400084, 400085, 400088, 400096, 400097, 400100, 400104, 400109, 400122, 400147, 400148, 400149, 400158, 400160, 400168, 400172, 400174, 400178, 400185, 400201, 400206, 400209, 400213, 400221, 400222, 400227, 400236, 400238, 400240, 400246, 400253, 400257, 400258, 400268, 400274, 400278, 400280, 400292, 400296, 400298, 400330, 400336, 400343, 400353, 400372, 400394, 400400, 400414, 400418, 400429, 400435, 400436, 400440, 400449, 400457, 400461, 400464, 400479, 400485, 400499, 400507, 400508, 400514, 400519, 400528, 400545, 400560, 400563, 400567, 400581, 400582, 400586, 400637, 400643, 400648, 400649, 400654, 400664, 400665, 400668, 400673, 400677, 400687, 400688, 400690, 400700, 400709, 400713, 400714, ...]\nIndex: []\n\n[0 rows x 325 columns]",
      "text/html": "<div>\n<style scoped>\n    .dataframe tbody tr th:only-of-type {\n        vertical-align: middle;\n    }\n\n    .dataframe tbody tr th {\n        vertical-align: top;\n    }\n\n    .dataframe thead th {\n        text-align: right;\n    }\n</style>\n<table border=\"1\" class=\"dataframe\">\n  <thead>\n    <tr style=\"text-align: right;\">\n      <th>sensor_id</th>\n      <th>400001</th>\n      <th>400017</th>\n      <th>400030</th>\n      <th>400040</th>\n      <th>400045</th>\n      <th>400052</th>\n      <th>400057</th>\n      <th>400059</th>\n      <th>400065</th>\n      <th>400069</th>\n      <th>...</th>\n      <th>409525</th>\n      <th>409526</th>\n      <th>409528</th>\n      <th>409529</th>\n      <th>413026</th>\n      <th>413845</th>\n      <th>413877</th>\n      <th>413878</th>\n      <th>414284</th>\n      <th>414694</th>\n    </tr>\n  </thead>\n  <tbody>\n  </tbody>\n</table>\n<p>0 rows × 325 columns</p>\n</div>"
     },
     "metadata": {},
     "output_type": "execute_result",
     "execution_count": 21
    }
   ],
   "source": [
    "df_traffic.loc[df_traffic[400052] == 0.0]\n",
    "\n"
   ],
   "metadata": {
    "collapsed": false,
    "pycharm": {
     "name": "#%%\n",
     "is_executing": false
    }
   }
  },
  {
   "cell_type": "code",
   "execution_count": 24,
   "outputs": [],
   "source": [
    "df_traffic.to_hdf('pems-bay_no_zeros.h5', 'C:/Users/janfd\\Documents/bt_traffic_prediction/Data/METR-LA, PEMS-BAY')\n",
    "\n"
   ],
   "metadata": {
    "collapsed": false,
    "pycharm": {
     "name": "#%%\n",
     "is_executing": false
    }
   }
  },
  {
   "cell_type": "code",
   "execution_count": 33,
   "outputs": [
    {
     "data": {
      "text/plain": "sensor_id  400001  400017  400030  400040  400045  400052  400057  400059  \\\n3.0           NaN     NaN     NaN     NaN     NaN     3.0     NaN     NaN   \n3.1           NaN     NaN     NaN     NaN     NaN     2.0     NaN     NaN   \n3.2           NaN     NaN     NaN     NaN     NaN     2.0     NaN     NaN   \n3.3           NaN     NaN     NaN     NaN     NaN     NaN     NaN     NaN   \n3.4           NaN     NaN     3.0     NaN     NaN     NaN     NaN     NaN   \n...           ...     ...     ...     ...     ...     ...     ...     ...   \n84.2          NaN     NaN     NaN     NaN     NaN     NaN     NaN     NaN   \n84.3          NaN     NaN     NaN     NaN     NaN     NaN     NaN     NaN   \n84.4          NaN     NaN     NaN     NaN     NaN     NaN     NaN     NaN   \n84.8          NaN     NaN     NaN     NaN     NaN     NaN     NaN     NaN   \n85.1          NaN     NaN     NaN     NaN     NaN     NaN     NaN     NaN   \n\nsensor_id  400065  400069  ...  409525  409526  409528  409529  413026  \\\n3.0           NaN     NaN  ...     NaN     NaN     NaN     NaN     NaN   \n3.1           NaN     NaN  ...     NaN     NaN     NaN     NaN     NaN   \n3.2           NaN     NaN  ...     NaN     NaN     NaN     NaN     NaN   \n3.3           NaN     NaN  ...     NaN     NaN     NaN     NaN     NaN   \n3.4           NaN     NaN  ...     NaN     NaN     NaN     NaN     NaN   \n...           ...     ...  ...     ...     ...     ...     ...     ...   \n84.2          NaN     NaN  ...     NaN     NaN     NaN     NaN     NaN   \n84.3          NaN     NaN  ...     NaN     NaN     NaN     NaN     NaN   \n84.4          NaN     NaN  ...     NaN     NaN     NaN     NaN     NaN   \n84.8          NaN     NaN  ...     NaN     NaN     NaN     NaN     NaN   \n85.1          NaN     NaN  ...     NaN     NaN     NaN     NaN     NaN   \n\nsensor_id  413845  413877  413878  414284  414694  \n3.0           NaN     NaN     NaN     NaN     NaN  \n3.1           NaN     NaN     NaN     NaN     NaN  \n3.2           NaN     NaN     NaN     NaN     NaN  \n3.3           NaN     NaN     NaN     NaN     NaN  \n3.4           NaN     NaN     NaN     NaN     NaN  \n...           ...     ...     ...     ...     ...  \n84.2          NaN     NaN     NaN     NaN     NaN  \n84.3          NaN     NaN     NaN     NaN     NaN  \n84.4          NaN     NaN     NaN     NaN     NaN  \n84.8          NaN     NaN     NaN     NaN     NaN  \n85.1          NaN     NaN     NaN     NaN     NaN  \n\n[814 rows x 325 columns]",
      "text/html": "<div>\n<style scoped>\n    .dataframe tbody tr th:only-of-type {\n        vertical-align: middle;\n    }\n\n    .dataframe tbody tr th {\n        vertical-align: top;\n    }\n\n    .dataframe thead th {\n        text-align: right;\n    }\n</style>\n<table border=\"1\" class=\"dataframe\">\n  <thead>\n    <tr style=\"text-align: right;\">\n      <th>sensor_id</th>\n      <th>400001</th>\n      <th>400017</th>\n      <th>400030</th>\n      <th>400040</th>\n      <th>400045</th>\n      <th>400052</th>\n      <th>400057</th>\n      <th>400059</th>\n      <th>400065</th>\n      <th>400069</th>\n      <th>...</th>\n      <th>409525</th>\n      <th>409526</th>\n      <th>409528</th>\n      <th>409529</th>\n      <th>413026</th>\n      <th>413845</th>\n      <th>413877</th>\n      <th>413878</th>\n      <th>414284</th>\n      <th>414694</th>\n    </tr>\n  </thead>\n  <tbody>\n    <tr>\n      <th>3.0</th>\n      <td>NaN</td>\n      <td>NaN</td>\n      <td>NaN</td>\n      <td>NaN</td>\n      <td>NaN</td>\n      <td>3.0</td>\n      <td>NaN</td>\n      <td>NaN</td>\n      <td>NaN</td>\n      <td>NaN</td>\n      <td>...</td>\n      <td>NaN</td>\n      <td>NaN</td>\n      <td>NaN</td>\n      <td>NaN</td>\n      <td>NaN</td>\n      <td>NaN</td>\n      <td>NaN</td>\n      <td>NaN</td>\n      <td>NaN</td>\n      <td>NaN</td>\n    </tr>\n    <tr>\n      <th>3.1</th>\n      <td>NaN</td>\n      <td>NaN</td>\n      <td>NaN</td>\n      <td>NaN</td>\n      <td>NaN</td>\n      <td>2.0</td>\n      <td>NaN</td>\n      <td>NaN</td>\n      <td>NaN</td>\n      <td>NaN</td>\n      <td>...</td>\n      <td>NaN</td>\n      <td>NaN</td>\n      <td>NaN</td>\n      <td>NaN</td>\n      <td>NaN</td>\n      <td>NaN</td>\n      <td>NaN</td>\n      <td>NaN</td>\n      <td>NaN</td>\n      <td>NaN</td>\n    </tr>\n    <tr>\n      <th>3.2</th>\n      <td>NaN</td>\n      <td>NaN</td>\n      <td>NaN</td>\n      <td>NaN</td>\n      <td>NaN</td>\n      <td>2.0</td>\n      <td>NaN</td>\n      <td>NaN</td>\n      <td>NaN</td>\n      <td>NaN</td>\n      <td>...</td>\n      <td>NaN</td>\n      <td>NaN</td>\n      <td>NaN</td>\n      <td>NaN</td>\n      <td>NaN</td>\n      <td>NaN</td>\n      <td>NaN</td>\n      <td>NaN</td>\n      <td>NaN</td>\n      <td>NaN</td>\n    </tr>\n    <tr>\n      <th>3.3</th>\n      <td>NaN</td>\n      <td>NaN</td>\n      <td>NaN</td>\n      <td>NaN</td>\n      <td>NaN</td>\n      <td>NaN</td>\n      <td>NaN</td>\n      <td>NaN</td>\n      <td>NaN</td>\n      <td>NaN</td>\n      <td>...</td>\n      <td>NaN</td>\n      <td>NaN</td>\n      <td>NaN</td>\n      <td>NaN</td>\n      <td>NaN</td>\n      <td>NaN</td>\n      <td>NaN</td>\n      <td>NaN</td>\n      <td>NaN</td>\n      <td>NaN</td>\n    </tr>\n    <tr>\n      <th>3.4</th>\n      <td>NaN</td>\n      <td>NaN</td>\n      <td>3.0</td>\n      <td>NaN</td>\n      <td>NaN</td>\n      <td>NaN</td>\n      <td>NaN</td>\n      <td>NaN</td>\n      <td>NaN</td>\n      <td>NaN</td>\n      <td>...</td>\n      <td>NaN</td>\n      <td>NaN</td>\n      <td>NaN</td>\n      <td>NaN</td>\n      <td>NaN</td>\n      <td>NaN</td>\n      <td>NaN</td>\n      <td>NaN</td>\n      <td>NaN</td>\n      <td>NaN</td>\n    </tr>\n    <tr>\n      <th>...</th>\n      <td>...</td>\n      <td>...</td>\n      <td>...</td>\n      <td>...</td>\n      <td>...</td>\n      <td>...</td>\n      <td>...</td>\n      <td>...</td>\n      <td>...</td>\n      <td>...</td>\n      <td>...</td>\n      <td>...</td>\n      <td>...</td>\n      <td>...</td>\n      <td>...</td>\n      <td>...</td>\n      <td>...</td>\n      <td>...</td>\n      <td>...</td>\n      <td>...</td>\n      <td>...</td>\n    </tr>\n    <tr>\n      <th>84.2</th>\n      <td>NaN</td>\n      <td>NaN</td>\n      <td>NaN</td>\n      <td>NaN</td>\n      <td>NaN</td>\n      <td>NaN</td>\n      <td>NaN</td>\n      <td>NaN</td>\n      <td>NaN</td>\n      <td>NaN</td>\n      <td>...</td>\n      <td>NaN</td>\n      <td>NaN</td>\n      <td>NaN</td>\n      <td>NaN</td>\n      <td>NaN</td>\n      <td>NaN</td>\n      <td>NaN</td>\n      <td>NaN</td>\n      <td>NaN</td>\n      <td>NaN</td>\n    </tr>\n    <tr>\n      <th>84.3</th>\n      <td>NaN</td>\n      <td>NaN</td>\n      <td>NaN</td>\n      <td>NaN</td>\n      <td>NaN</td>\n      <td>NaN</td>\n      <td>NaN</td>\n      <td>NaN</td>\n      <td>NaN</td>\n      <td>NaN</td>\n      <td>...</td>\n      <td>NaN</td>\n      <td>NaN</td>\n      <td>NaN</td>\n      <td>NaN</td>\n      <td>NaN</td>\n      <td>NaN</td>\n      <td>NaN</td>\n      <td>NaN</td>\n      <td>NaN</td>\n      <td>NaN</td>\n    </tr>\n    <tr>\n      <th>84.4</th>\n      <td>NaN</td>\n      <td>NaN</td>\n      <td>NaN</td>\n      <td>NaN</td>\n      <td>NaN</td>\n      <td>NaN</td>\n      <td>NaN</td>\n      <td>NaN</td>\n      <td>NaN</td>\n      <td>NaN</td>\n      <td>...</td>\n      <td>NaN</td>\n      <td>NaN</td>\n      <td>NaN</td>\n      <td>NaN</td>\n      <td>NaN</td>\n      <td>NaN</td>\n      <td>NaN</td>\n      <td>NaN</td>\n      <td>NaN</td>\n      <td>NaN</td>\n    </tr>\n    <tr>\n      <th>84.8</th>\n      <td>NaN</td>\n      <td>NaN</td>\n      <td>NaN</td>\n      <td>NaN</td>\n      <td>NaN</td>\n      <td>NaN</td>\n      <td>NaN</td>\n      <td>NaN</td>\n      <td>NaN</td>\n      <td>NaN</td>\n      <td>...</td>\n      <td>NaN</td>\n      <td>NaN</td>\n      <td>NaN</td>\n      <td>NaN</td>\n      <td>NaN</td>\n      <td>NaN</td>\n      <td>NaN</td>\n      <td>NaN</td>\n      <td>NaN</td>\n      <td>NaN</td>\n    </tr>\n    <tr>\n      <th>85.1</th>\n      <td>NaN</td>\n      <td>NaN</td>\n      <td>NaN</td>\n      <td>NaN</td>\n      <td>NaN</td>\n      <td>NaN</td>\n      <td>NaN</td>\n      <td>NaN</td>\n      <td>NaN</td>\n      <td>NaN</td>\n      <td>...</td>\n      <td>NaN</td>\n      <td>NaN</td>\n      <td>NaN</td>\n      <td>NaN</td>\n      <td>NaN</td>\n      <td>NaN</td>\n      <td>NaN</td>\n      <td>NaN</td>\n      <td>NaN</td>\n      <td>NaN</td>\n    </tr>\n  </tbody>\n</table>\n<p>814 rows × 325 columns</p>\n</div>"
     },
     "metadata": {},
     "output_type": "execute_result",
     "execution_count": 33
    }
   ],
   "source": [
    "df_traffic.apply(pd.value_counts)\n"
   ],
   "metadata": {
    "collapsed": false,
    "pycharm": {
     "name": "#%%\n",
     "is_executing": false
    }
   }
  },
  {
   "cell_type": "code",
   "execution_count": 67,
   "outputs": [],
   "source": [
    "df_weather = df_weather.drop(['max Wind m/s', 'Max Temp', 'Min Temp'], axis=1)"
   ],
   "metadata": {
    "collapsed": false,
    "pycharm": {
     "name": "#%%\n",
     "is_executing": false
    }
   }
  },
  {
   "cell_type": "code",
   "execution_count": 62,
   "outputs": [],
   "source": [
    "traffic_test = df_traffic"
   ],
   "metadata": {
    "collapsed": false,
    "pycharm": {
     "name": "#%%\n",
     "is_executing": false
    }
   }
  },
  {
   "cell_type": "code",
   "execution_count": 64,
   "outputs": [
    {
     "data": {
      "text/plain": "Index(['2017-01-01 00:00:00', '2017-01-01 00:05:00', '2017-01-01 00:10:00',\n       '2017-01-01 00:15:00', '2017-01-01 00:20:00', '2017-01-01 00:25:00',\n       '2017-01-01 00:30:00', '2017-01-01 00:35:00', '2017-01-01 00:40:00',\n       '2017-01-01 00:45:00',\n       ...\n       '2017-06-30 23:10:00', '2017-06-30 23:15:00', '2017-06-30 23:20:00',\n       '2017-06-30 23:25:00', '2017-06-30 23:30:00', '2017-06-30 23:35:00',\n       '2017-06-30 23:40:00', '2017-06-30 23:45:00', '2017-06-30 23:50:00',\n       '2017-06-30 23:55:00'],\n      dtype='object', length=52116)"
     },
     "metadata": {},
     "output_type": "execute_result",
     "execution_count": 64
    }
   ],
   "source": [
    "traffic_test.index.difference(pd.date_range(start='2017-01-01', end='2017-06-30', freq='5min'))\n",
    "\n"
   ],
   "metadata": {
    "collapsed": false,
    "pycharm": {
     "name": "#%%\n",
     "is_executing": false
    }
   }
  },
  {
   "cell_type": "code",
   "execution_count": 69,
   "outputs": [
    {
     "data": {
      "text/plain": "(181, 3)"
     },
     "metadata": {},
     "output_type": "execute_result",
     "execution_count": 69
    }
   ],
   "source": [
    "traffic_test.shape\n",
    "df_weather.shape"
   ],
   "metadata": {
    "collapsed": false,
    "pycharm": {
     "name": "#%%\n",
     "is_executing": false
    }
   }
  },
  {
   "cell_type": "code",
   "execution_count": 73,
   "outputs": [
    {
     "data": {
      "text/plain": "            Date  Mean Temp  Tot Precip mm\n0     2017-01-01        6.0           0.00\n5249  2017-01-01        6.0           0.00\n3258  2017-01-01        6.0           0.00\n19729 2017-01-01        6.0           0.00\n28055 2017-01-01        6.0           0.00\n...          ...        ...            ...\n34751 2017-06-30       12.7           0.25\n34932 2017-06-30       12.7           0.25\n35113 2017-06-30       12.7           0.25\n34027 2017-06-30       12.7           0.25\n52127 2017-06-30       12.7           0.25\n\n[52128 rows x 3 columns]",
      "text/html": "<div>\n<style scoped>\n    .dataframe tbody tr th:only-of-type {\n        vertical-align: middle;\n    }\n\n    .dataframe tbody tr th {\n        vertical-align: top;\n    }\n\n    .dataframe thead th {\n        text-align: right;\n    }\n</style>\n<table border=\"1\" class=\"dataframe\">\n  <thead>\n    <tr style=\"text-align: right;\">\n      <th></th>\n      <th>Date</th>\n      <th>Mean Temp</th>\n      <th>Tot Precip mm</th>\n    </tr>\n  </thead>\n  <tbody>\n    <tr>\n      <th>0</th>\n      <td>2017-01-01</td>\n      <td>6.0</td>\n      <td>0.00</td>\n    </tr>\n    <tr>\n      <th>5249</th>\n      <td>2017-01-01</td>\n      <td>6.0</td>\n      <td>0.00</td>\n    </tr>\n    <tr>\n      <th>3258</th>\n      <td>2017-01-01</td>\n      <td>6.0</td>\n      <td>0.00</td>\n    </tr>\n    <tr>\n      <th>19729</th>\n      <td>2017-01-01</td>\n      <td>6.0</td>\n      <td>0.00</td>\n    </tr>\n    <tr>\n      <th>28055</th>\n      <td>2017-01-01</td>\n      <td>6.0</td>\n      <td>0.00</td>\n    </tr>\n    <tr>\n      <th>...</th>\n      <td>...</td>\n      <td>...</td>\n      <td>...</td>\n    </tr>\n    <tr>\n      <th>34751</th>\n      <td>2017-06-30</td>\n      <td>12.7</td>\n      <td>0.25</td>\n    </tr>\n    <tr>\n      <th>34932</th>\n      <td>2017-06-30</td>\n      <td>12.7</td>\n      <td>0.25</td>\n    </tr>\n    <tr>\n      <th>35113</th>\n      <td>2017-06-30</td>\n      <td>12.7</td>\n      <td>0.25</td>\n    </tr>\n    <tr>\n      <th>34027</th>\n      <td>2017-06-30</td>\n      <td>12.7</td>\n      <td>0.25</td>\n    </tr>\n    <tr>\n      <th>52127</th>\n      <td>2017-06-30</td>\n      <td>12.7</td>\n      <td>0.25</td>\n    </tr>\n  </tbody>\n</table>\n<p>52128 rows × 3 columns</p>\n</div>"
     },
     "metadata": {},
     "output_type": "execute_result",
     "execution_count": 73
    }
   ],
   "source": [
    "test_weather = pd.concat([df_weather]*12*24, ignore_index=True)\n",
    "test_weather.shape\n",
    "test_weather.sort_values(by=['Date'])"
   ],
   "metadata": {
    "collapsed": false,
    "pycharm": {
     "name": "#%%\n",
     "is_executing": false
    }
   }
  },
  {
   "cell_type": "code",
   "execution_count": 75,
   "outputs": [
    {
     "data": {
      "text/plain": "<bound method DataFrame.reindex of             Date  Mean Temp  Tot Precip mm\n0     2017-01-01        6.0           0.00\n1     2017-01-02        5.0           1.52\n2     2017-01-03        7.4          25.15\n3     2017-01-04        7.9          29.97\n4     2017-01-05        4.1           0.25\n...          ...        ...            ...\n52123 2017-06-26       14.8           0.00\n52124 2017-06-27       13.4           0.00\n52125 2017-06-28       13.0           0.00\n52126 2017-06-29       13.4           0.00\n52127 2017-06-30       12.7           0.25\n\n[52128 rows x 3 columns]>"
     },
     "metadata": {},
     "output_type": "execute_result",
     "execution_count": 75
    }
   ],
   "source": [
    "test_weather.reindex"
   ],
   "metadata": {
    "collapsed": false,
    "pycharm": {
     "name": "#%%\n",
     "is_executing": false
    }
   }
  },
  {
   "cell_type": "code",
   "execution_count": 91,
   "outputs": [],
   "source": [
    "traffic_test['Date'] = pd.date_range(start='2017-01-01', end='2017-06-30 22:55:00', freq='5min')"
   ],
   "metadata": {
    "collapsed": false,
    "pycharm": {
     "name": "#%%\n",
     "is_executing": false
    }
   }
  },
  {
   "cell_type": "code",
   "execution_count": 90,
   "outputs": [],
   "source": [
    "insert = traffic_test.loc['2017-03-12 01:55:00']"
   ],
   "metadata": {
    "collapsed": false,
    "pycharm": {
     "name": "#%%\n",
     "is_executing": false
    }
   }
  },
  {
   "cell_type": "code",
   "execution_count": 92,
   "outputs": [],
   "source": [
    "insert = pd.concat([insert]*12)"
   ],
   "metadata": {
    "collapsed": false,
    "pycharm": {
     "name": "#%%\n",
     "is_executing": false
    }
   }
  },
  {
   "cell_type": "code",
   "execution_count": 96,
   "outputs": [],
   "source": [
    "df_traffic.to_hdf('pems-bay_no_zeros.h5', key='df', mode='w')"
   ],
   "metadata": {
    "collapsed": false,
    "pycharm": {
     "name": "#%%\n",
     "is_executing": false
    }
   }
  },
  {
   "cell_type": "code",
   "execution_count": 107,
   "outputs": [],
   "source": [
    "filler = pd.DataFrame(index=pd.date_range(start='2017-03-12 02:00:00', end='2017-03-12 02:55:00', freq='5min'), columns=traffic_test.columns)\n",
    "filler = filler.fillna(0)\n",
    "\n"
   ],
   "metadata": {
    "collapsed": false,
    "pycharm": {
     "name": "#%%\n",
     "is_executing": false
    }
   }
  }
 ],
 "metadata": {
  "kernelspec": {
   "display_name": "Python 3",
   "language": "python",
   "name": "python3"
  },
  "language_info": {
   "codemirror_mode": {
    "name": "ipython",
    "version": 3
   },
   "file_extension": ".py",
   "mimetype": "text/x-python",
   "name": "python",
   "nbconvert_exporter": "python",
   "pygments_lexer": "ipython3",
   "version": "3.7.6"
  },
  "pycharm": {
   "stem_cell": {
    "cell_type": "raw",
    "source": [],
    "metadata": {
     "collapsed": false
    }
   }
  }
 },
 "nbformat": 4,
 "nbformat_minor": 4
}