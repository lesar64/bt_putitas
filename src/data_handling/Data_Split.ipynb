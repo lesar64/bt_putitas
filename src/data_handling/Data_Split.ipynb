{
 "cells": [
  {
   "cell_type": "code",
   "execution_count": 72,
   "metadata": {
    "collapsed": true,
    "pycharm": {
     "is_executing": false
    }
   },
   "outputs": [],
   "source": [
    "import pandas as pd\n",
    "import numpy as np\n",
    "df = pd.read_hdf('data_final.h5', key='df')\n",
    "#Trim down to X Sensors\n",
    "Sensors = 10\n",
    "sensor_index = Sensors+7\n",
    "df = df.iloc[:, :sensor_index]"
   ]
  },
  {
   "cell_type": "code",
   "execution_count": 73,
   "outputs": [],
   "source": [
    "# Here Every 3rd\n",
    "# Other Option just chopping of the last month or so? to keep previous information\n",
    "# Still to debate\n",
    "# df_train = df[df.index % 3 != 0]  # Excludes every 3rd row starting from 0\n",
    "# df_evalu = df[df.index % 3 == 0]  # Selects every 3rd raw starting from 0\n",
    "# df.to_hdf('data_final.h5',key='df', mode='w')\n",
    "# Simple Input for testing\n",
    "# df_in = df[['Month', 'Day', 'Weekday', 'Hours', 'Minutes', 'Temp', 'Precip', '400001']]\n",
    "# df.to_hdf('simple_in.h5',key='df', mode='w')\n",
    "# #Simple Output Data for Testing\n",
    "# s_simple_output = df['400001']\n",
    "# s_simple_output.drop(s_simple_output.index[0], inplace=True)\n",
    "# # s_simple_output.iloc[-1]\n",
    "# s_simple_output = s_simple_output.append(pd.Series(s_simple_output.iloc[-1]))\n",
    "# s_simple_output.reset_index(drop=True, inplace=True)\n",
    "# s_simple_output.to_hdf('simple_out.h5',key='df', mode='w')"
   ],
   "metadata": {
    "collapsed": false,
    "pycharm": {
     "name": "#%%\n",
     "is_executing": false
    }
   }
  },
  {
   "cell_type": "code",
   "execution_count": 74,
   "outputs": [],
   "source": [
    "df.apply(pd.value_counts)\n",
    "#Highest is 80.4\n",
    "#Normalized\n",
    "df.iloc[:,7:sensor_index] = df.iloc[:,7:sensor_index]/80.4"
   ],
   "metadata": {
    "collapsed": false,
    "pycharm": {
     "name": "#%%\n",
     "is_executing": false
    }
   }
  },
  {
   "cell_type": "code",
   "execution_count": 75,
   "outputs": [],
   "source": [
    "#Split in Input (Meta, Now, -5, -10) and Output(+15)\n",
    "\n",
    "#Define DF\n",
    "df_in = pd.DataFrame(columns=['Month', 'Day', 'Weekday', 'Hours', 'Minutes', 'Temp', 'Precip','Now','-5','-10'])\n",
    "df_out = pd.DataFrame(columns=['Output'])\n"
   ],
   "metadata": {
    "collapsed": false,
    "pycharm": {
     "name": "#%%\n",
     "is_executing": false
    }
   }
  },
  {
   "cell_type": "code",
   "execution_count": 76,
   "outputs": [],
   "source": [
    "# Take one Sensor, and append his now, -5 and -10 value with meta data in the input dataframe\n",
    "# Append his output +15 in the out dataframe\n",
    "for i in range(Sensors):\n",
    "    temp_in = df.iloc[:,:8]\n",
    "    temp_out = pd.DataFrame(columns=['Output'])\n",
    "    temp_in.columns = ['Month', 'Day', 'Weekday', 'Hours', 'Minutes', 'Temp', 'Precip','Now']\n",
    "    temp_in['-5'] = temp_in['Now'].shift(1)\n",
    "    temp_in['-10'] = temp_in['Now'].shift(2)\n",
    "    temp_out['Output'] = temp_in['Now'].shift(-3)\n",
    "    temp_in = temp_in[2:-3]\n",
    "    temp_out = temp_out[2:-3]\n",
    "    df_in = df_in.append(temp_in, ignore_index=True)\n",
    "    df_out = df_out.append(temp_out, ignore_index=True)\n",
    "    df.drop(columns=[df.columns[7]], inplace=True)"
   ],
   "metadata": {
    "collapsed": false,
    "pycharm": {
     "name": "#%%\n",
     "is_executing": false
    }
   }
  },
  {
   "cell_type": "code",
   "execution_count": 78,
   "outputs": [],
   "source": [
    "#Split in Training and Evaluation Data\n",
    "df_train_in = df_in[df_in.index % 3 != 0]  # Excludes every 3rd row starting from 0\n",
    "df_train_out = df_out[df_out.index % 3 != 0]  # Excludes every 3rd row starting from 0\n",
    "df_evalu_in = df_in[df_in.index % 3 == 0]  # Selects every 3rd raw starting from 0\n",
    "df_evalu_out = df_out[df_out.index % 3 == 0]  # Selects every 3rd raw starting from 0\n",
    "\n"
   ],
   "metadata": {
    "collapsed": false,
    "pycharm": {
     "name": "#%%\n",
     "is_executing": false
    }
   }
  },
  {
   "cell_type": "code",
   "execution_count": 79,
   "outputs": [
    {
     "name": "stderr",
     "text": [
      "c:\\users\\janfd\\appdata\\local\\programs\\python\\python37\\lib\\site-packages\\pandas\\core\\generic.py:2530: PerformanceWarning: \n",
      "your performance may suffer as PyTables will pickle object types that it cannot\n",
      "map directly to c-types [inferred_type->integer,key->block0_values] [items->['Month', 'Day', 'Weekday', 'Hours', 'Minutes']]\n",
      "\n",
      "  pytables.to_hdf(path_or_buf, key, self, **kwargs)\n"
     ],
     "output_type": "stream"
    }
   ],
   "source": [
    "#Save Datasets\n",
    "\n",
    "df_train_in.to_hdf('df_train_in.h5',key='df', mode='w')\n",
    "df_train_out.to_hdf('df_train_out.h5',key='df', mode='w')\n",
    "df_evalu_in.to_hdf('df_evalu_in.h5',key='df', mode='w')\n",
    "df_evalu_out.to_hdf('df_evalu_out.h5',key='df', mode='w')"
   ],
   "metadata": {
    "collapsed": false,
    "pycharm": {
     "name": "#%%\n",
     "is_executing": false
    }
   }
  }
 ],
 "metadata": {
  "kernelspec": {
   "display_name": "Python 3",
   "language": "python",
   "name": "python3"
  },
  "language_info": {
   "codemirror_mode": {
    "name": "ipython",
    "version": 2
   },
   "file_extension": ".py",
   "mimetype": "text/x-python",
   "name": "python",
   "nbconvert_exporter": "python",
   "pygments_lexer": "ipython2",
   "version": "2.7.6"
  },
  "pycharm": {
   "stem_cell": {
    "cell_type": "raw",
    "source": [],
    "metadata": {
     "collapsed": false
    }
   }
  }
 },
 "nbformat": 4,
 "nbformat_minor": 0
}