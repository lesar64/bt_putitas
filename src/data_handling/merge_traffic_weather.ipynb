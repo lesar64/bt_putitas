{
 "cells": [
  {
   "cell_type": "code",
   "execution_count": 2,
   "metadata": {
    "collapsed": true,
    "pycharm": {
     "is_executing": false
    }
   },
   "outputs": [],
   "source": [
    "import pandas as pd\n",
    "import numpy as np\n",
    "df_weather = pd.read_hdf('weather_5min.h5', key='df')\n",
    "df_traffic = pd.read_csv('traffic.csv')"
   ]
  },
  {
   "cell_type": "code",
   "execution_count": 6,
   "outputs": [],
   "source": [
    "df_join = pd.DataFrame()\n",
    "df_join = df_traffic.join(df_weather, how='left')"
   ],
   "metadata": {
    "collapsed": false,
    "pycharm": {
     "name": "#%%\n",
     "is_executing": false
    }
   }
  },
  {
   "cell_type": "code",
   "execution_count": 11,
   "outputs": [
    {
     "traceback": [
      "\u001b[1;31m---------------------------------------------------------------------------\u001b[0m",
      "\u001b[1;31mKeyError\u001b[0m                                  Traceback (most recent call last)",
      "\u001b[1;32m<ipython-input-11-7939075e78a9>\u001b[0m in \u001b[0;36m<module>\u001b[1;34m\u001b[0m\n\u001b[1;32m----> 1\u001b[1;33m \u001b[0mdf_join\u001b[0m\u001b[1;33m.\u001b[0m\u001b[0mdrop\u001b[0m\u001b[1;33m(\u001b[0m\u001b[1;33m[\u001b[0m\u001b[1;34m'Date'\u001b[0m\u001b[1;33m]\u001b[0m\u001b[1;33m,\u001b[0m\u001b[0maxis\u001b[0m\u001b[1;33m=\u001b[0m\u001b[1;36m1\u001b[0m\u001b[1;33m,\u001b[0m\u001b[0minplace\u001b[0m\u001b[1;33m=\u001b[0m\u001b[1;32mTrue\u001b[0m\u001b[1;33m)\u001b[0m\u001b[1;33m\u001b[0m\u001b[1;33m\u001b[0m\u001b[0m\n\u001b[0m\u001b[0;32m      2\u001b[0m \u001b[1;33m\u001b[0m\u001b[0m\n",
      "\u001b[1;32mc:\\users\\janfd\\appdata\\local\\programs\\python\\python37\\lib\\site-packages\\pandas\\core\\frame.py\u001b[0m in \u001b[0;36mdrop\u001b[1;34m(self, labels, axis, index, columns, level, inplace, errors)\u001b[0m\n\u001b[0;32m   4115\u001b[0m             \u001b[0mlevel\u001b[0m\u001b[1;33m=\u001b[0m\u001b[0mlevel\u001b[0m\u001b[1;33m,\u001b[0m\u001b[1;33m\u001b[0m\u001b[1;33m\u001b[0m\u001b[0m\n\u001b[0;32m   4116\u001b[0m             \u001b[0minplace\u001b[0m\u001b[1;33m=\u001b[0m\u001b[0minplace\u001b[0m\u001b[1;33m,\u001b[0m\u001b[1;33m\u001b[0m\u001b[1;33m\u001b[0m\u001b[0m\n\u001b[1;32m-> 4117\u001b[1;33m             \u001b[0merrors\u001b[0m\u001b[1;33m=\u001b[0m\u001b[0merrors\u001b[0m\u001b[1;33m,\u001b[0m\u001b[1;33m\u001b[0m\u001b[1;33m\u001b[0m\u001b[0m\n\u001b[0m\u001b[0;32m   4118\u001b[0m         )\n\u001b[0;32m   4119\u001b[0m \u001b[1;33m\u001b[0m\u001b[0m\n",
      "\u001b[1;32mc:\\users\\janfd\\appdata\\local\\programs\\python\\python37\\lib\\site-packages\\pandas\\core\\generic.py\u001b[0m in \u001b[0;36mdrop\u001b[1;34m(self, labels, axis, index, columns, level, inplace, errors)\u001b[0m\n\u001b[0;32m   3912\u001b[0m         \u001b[1;32mfor\u001b[0m \u001b[0maxis\u001b[0m\u001b[1;33m,\u001b[0m \u001b[0mlabels\u001b[0m \u001b[1;32min\u001b[0m \u001b[0maxes\u001b[0m\u001b[1;33m.\u001b[0m\u001b[0mitems\u001b[0m\u001b[1;33m(\u001b[0m\u001b[1;33m)\u001b[0m\u001b[1;33m:\u001b[0m\u001b[1;33m\u001b[0m\u001b[1;33m\u001b[0m\u001b[0m\n\u001b[0;32m   3913\u001b[0m             \u001b[1;32mif\u001b[0m \u001b[0mlabels\u001b[0m \u001b[1;32mis\u001b[0m \u001b[1;32mnot\u001b[0m \u001b[1;32mNone\u001b[0m\u001b[1;33m:\u001b[0m\u001b[1;33m\u001b[0m\u001b[1;33m\u001b[0m\u001b[0m\n\u001b[1;32m-> 3914\u001b[1;33m                 \u001b[0mobj\u001b[0m \u001b[1;33m=\u001b[0m \u001b[0mobj\u001b[0m\u001b[1;33m.\u001b[0m\u001b[0m_drop_axis\u001b[0m\u001b[1;33m(\u001b[0m\u001b[0mlabels\u001b[0m\u001b[1;33m,\u001b[0m \u001b[0maxis\u001b[0m\u001b[1;33m,\u001b[0m \u001b[0mlevel\u001b[0m\u001b[1;33m=\u001b[0m\u001b[0mlevel\u001b[0m\u001b[1;33m,\u001b[0m \u001b[0merrors\u001b[0m\u001b[1;33m=\u001b[0m\u001b[0merrors\u001b[0m\u001b[1;33m)\u001b[0m\u001b[1;33m\u001b[0m\u001b[1;33m\u001b[0m\u001b[0m\n\u001b[0m\u001b[0;32m   3915\u001b[0m \u001b[1;33m\u001b[0m\u001b[0m\n\u001b[0;32m   3916\u001b[0m         \u001b[1;32mif\u001b[0m \u001b[0minplace\u001b[0m\u001b[1;33m:\u001b[0m\u001b[1;33m\u001b[0m\u001b[1;33m\u001b[0m\u001b[0m\n",
      "\u001b[1;32mc:\\users\\janfd\\appdata\\local\\programs\\python\\python37\\lib\\site-packages\\pandas\\core\\generic.py\u001b[0m in \u001b[0;36m_drop_axis\u001b[1;34m(self, labels, axis, level, errors)\u001b[0m\n\u001b[0;32m   3944\u001b[0m                 \u001b[0mnew_axis\u001b[0m \u001b[1;33m=\u001b[0m \u001b[0maxis\u001b[0m\u001b[1;33m.\u001b[0m\u001b[0mdrop\u001b[0m\u001b[1;33m(\u001b[0m\u001b[0mlabels\u001b[0m\u001b[1;33m,\u001b[0m \u001b[0mlevel\u001b[0m\u001b[1;33m=\u001b[0m\u001b[0mlevel\u001b[0m\u001b[1;33m,\u001b[0m \u001b[0merrors\u001b[0m\u001b[1;33m=\u001b[0m\u001b[0merrors\u001b[0m\u001b[1;33m)\u001b[0m\u001b[1;33m\u001b[0m\u001b[1;33m\u001b[0m\u001b[0m\n\u001b[0;32m   3945\u001b[0m             \u001b[1;32melse\u001b[0m\u001b[1;33m:\u001b[0m\u001b[1;33m\u001b[0m\u001b[1;33m\u001b[0m\u001b[0m\n\u001b[1;32m-> 3946\u001b[1;33m                 \u001b[0mnew_axis\u001b[0m \u001b[1;33m=\u001b[0m \u001b[0maxis\u001b[0m\u001b[1;33m.\u001b[0m\u001b[0mdrop\u001b[0m\u001b[1;33m(\u001b[0m\u001b[0mlabels\u001b[0m\u001b[1;33m,\u001b[0m \u001b[0merrors\u001b[0m\u001b[1;33m=\u001b[0m\u001b[0merrors\u001b[0m\u001b[1;33m)\u001b[0m\u001b[1;33m\u001b[0m\u001b[1;33m\u001b[0m\u001b[0m\n\u001b[0m\u001b[0;32m   3947\u001b[0m             \u001b[0mresult\u001b[0m \u001b[1;33m=\u001b[0m \u001b[0mself\u001b[0m\u001b[1;33m.\u001b[0m\u001b[0mreindex\u001b[0m\u001b[1;33m(\u001b[0m\u001b[1;33m**\u001b[0m\u001b[1;33m{\u001b[0m\u001b[0maxis_name\u001b[0m\u001b[1;33m:\u001b[0m \u001b[0mnew_axis\u001b[0m\u001b[1;33m}\u001b[0m\u001b[1;33m)\u001b[0m\u001b[1;33m\u001b[0m\u001b[1;33m\u001b[0m\u001b[0m\n\u001b[0;32m   3948\u001b[0m \u001b[1;33m\u001b[0m\u001b[0m\n",
      "\u001b[1;32mc:\\users\\janfd\\appdata\\local\\programs\\python\\python37\\lib\\site-packages\\pandas\\core\\indexes\\base.py\u001b[0m in \u001b[0;36mdrop\u001b[1;34m(self, labels, errors)\u001b[0m\n\u001b[0;32m   5338\u001b[0m         \u001b[1;32mif\u001b[0m \u001b[0mmask\u001b[0m\u001b[1;33m.\u001b[0m\u001b[0many\u001b[0m\u001b[1;33m(\u001b[0m\u001b[1;33m)\u001b[0m\u001b[1;33m:\u001b[0m\u001b[1;33m\u001b[0m\u001b[1;33m\u001b[0m\u001b[0m\n\u001b[0;32m   5339\u001b[0m             \u001b[1;32mif\u001b[0m \u001b[0merrors\u001b[0m \u001b[1;33m!=\u001b[0m \u001b[1;34m\"ignore\"\u001b[0m\u001b[1;33m:\u001b[0m\u001b[1;33m\u001b[0m\u001b[1;33m\u001b[0m\u001b[0m\n\u001b[1;32m-> 5340\u001b[1;33m                 \u001b[1;32mraise\u001b[0m \u001b[0mKeyError\u001b[0m\u001b[1;33m(\u001b[0m\u001b[1;34m\"{} not found in axis\"\u001b[0m\u001b[1;33m.\u001b[0m\u001b[0mformat\u001b[0m\u001b[1;33m(\u001b[0m\u001b[0mlabels\u001b[0m\u001b[1;33m[\u001b[0m\u001b[0mmask\u001b[0m\u001b[1;33m]\u001b[0m\u001b[1;33m)\u001b[0m\u001b[1;33m)\u001b[0m\u001b[1;33m\u001b[0m\u001b[1;33m\u001b[0m\u001b[0m\n\u001b[0m\u001b[0;32m   5341\u001b[0m             \u001b[0mindexer\u001b[0m \u001b[1;33m=\u001b[0m \u001b[0mindexer\u001b[0m\u001b[1;33m[\u001b[0m\u001b[1;33m~\u001b[0m\u001b[0mmask\u001b[0m\u001b[1;33m]\u001b[0m\u001b[1;33m\u001b[0m\u001b[1;33m\u001b[0m\u001b[0m\n\u001b[0;32m   5342\u001b[0m         \u001b[1;32mreturn\u001b[0m \u001b[0mself\u001b[0m\u001b[1;33m.\u001b[0m\u001b[0mdelete\u001b[0m\u001b[1;33m(\u001b[0m\u001b[0mindexer\u001b[0m\u001b[1;33m)\u001b[0m\u001b[1;33m\u001b[0m\u001b[1;33m\u001b[0m\u001b[0m\n",
      "\u001b[1;31mKeyError\u001b[0m: \"['Date'] not found in axis\""
     ],
     "ename": "KeyError",
     "evalue": "\"['Date'] not found in axis\"",
     "output_type": "error"
    }
   ],
   "source": [
    "df_join.drop(['Date'],axis=1,inplace=True)"
   ],
   "metadata": {
    "collapsed": false,
    "pycharm": {
     "name": "#%%\n",
     "is_executing": false
    }
   }
  },
  {
   "cell_type": "code",
   "execution_count": 13,
   "outputs": [
    {
     "data": {
      "text/plain": "                      Date  400001  400017  400030  400040  400045  400052  \\\n0      2017-01-01 00:00:00    71.4    67.8    70.5    67.4    68.8    66.6   \n1      2017-01-01 00:05:00    71.6    67.5    70.6    67.5    68.7    66.6   \n2      2017-01-01 00:10:00    71.6    67.6    70.2    67.4    68.7    66.1   \n3      2017-01-01 00:15:00    71.1    67.5    70.3    68.0    68.5    66.7   \n4      2017-01-01 00:20:00    71.7    67.8    70.2    68.1    68.4    66.9   \n...                    ...     ...     ...     ...     ...     ...     ...   \n52123  2017-06-30 23:35:00    70.9    66.3    68.4    61.0    61.8    66.9   \n52124  2017-06-30 23:40:00    71.3    66.6    68.7    60.9    62.0    66.2   \n52125  2017-06-30 23:45:00    71.4    66.9    68.1    61.1    62.0    66.7   \n52126  2017-06-30 23:50:00    72.2    66.5    68.0    61.1    62.5    65.8   \n52127  2017-06-30 23:55:00    71.5    66.2    68.4    61.5    62.8    66.1   \n\n       400057  400059  400065  ...  409528  409529  413026  413845  413877  \\\n0        66.8    68.0    66.8  ...    68.8    68.0    69.2    68.9    70.4   \n1        66.8    67.8    66.5  ...    68.4    67.6    70.4    68.8    70.1   \n2        66.8    67.8    66.2  ...    68.4    67.5    70.2    68.3    69.8   \n3        66.6    67.7    65.9  ...    68.5    67.5    70.4    68.7    70.2   \n4        66.1    67.7    66.1  ...    68.5    67.4    69.6    69.1    70.0   \n...       ...     ...     ...  ...     ...     ...     ...     ...     ...   \n52123    66.0    67.4    65.4  ...    64.7    61.1    68.4    61.4    70.5   \n52124    66.5    68.2    64.9  ...    64.8    60.8    69.8    62.2    69.4   \n52125    65.8    68.2    64.2  ...    64.6    61.3    69.5    63.8    70.6   \n52126    67.1    68.3    64.0  ...    64.8    61.3    69.6    64.2    70.2   \n52127    67.7    68.4    64.9  ...    64.8    60.9    70.9    63.4    70.3   \n\n       413878  414284  414694  Mean Temp  Tot Precip mm  \n0        68.8    71.1    68.0        6.0           0.00  \n1        68.4    70.8    67.4        6.0           0.00  \n2        68.4    70.5    67.9        6.0           0.00  \n3        68.4    70.8    67.6        6.0           0.00  \n4        68.4    71.0    67.9        6.0           0.00  \n...       ...     ...     ...        ...            ...  \n52123    68.2    71.6    66.2       12.7           0.25  \n52124    68.6    71.6    68.4       12.7           0.25  \n52125    68.4    71.6    66.6       12.7           0.25  \n52126    68.7    71.6    68.4       12.7           0.25  \n52127    68.7    71.6    68.0       12.7           0.25  \n\n[52128 rows x 328 columns]",
      "text/html": "<div>\n<style scoped>\n    .dataframe tbody tr th:only-of-type {\n        vertical-align: middle;\n    }\n\n    .dataframe tbody tr th {\n        vertical-align: top;\n    }\n\n    .dataframe thead th {\n        text-align: right;\n    }\n</style>\n<table border=\"1\" class=\"dataframe\">\n  <thead>\n    <tr style=\"text-align: right;\">\n      <th></th>\n      <th>Date</th>\n      <th>400001</th>\n      <th>400017</th>\n      <th>400030</th>\n      <th>400040</th>\n      <th>400045</th>\n      <th>400052</th>\n      <th>400057</th>\n      <th>400059</th>\n      <th>400065</th>\n      <th>...</th>\n      <th>409528</th>\n      <th>409529</th>\n      <th>413026</th>\n      <th>413845</th>\n      <th>413877</th>\n      <th>413878</th>\n      <th>414284</th>\n      <th>414694</th>\n      <th>Mean Temp</th>\n      <th>Tot Precip mm</th>\n    </tr>\n  </thead>\n  <tbody>\n    <tr>\n      <th>0</th>\n      <td>2017-01-01 00:00:00</td>\n      <td>71.4</td>\n      <td>67.8</td>\n      <td>70.5</td>\n      <td>67.4</td>\n      <td>68.8</td>\n      <td>66.6</td>\n      <td>66.8</td>\n      <td>68.0</td>\n      <td>66.8</td>\n      <td>...</td>\n      <td>68.8</td>\n      <td>68.0</td>\n      <td>69.2</td>\n      <td>68.9</td>\n      <td>70.4</td>\n      <td>68.8</td>\n      <td>71.1</td>\n      <td>68.0</td>\n      <td>6.0</td>\n      <td>0.00</td>\n    </tr>\n    <tr>\n      <th>1</th>\n      <td>2017-01-01 00:05:00</td>\n      <td>71.6</td>\n      <td>67.5</td>\n      <td>70.6</td>\n      <td>67.5</td>\n      <td>68.7</td>\n      <td>66.6</td>\n      <td>66.8</td>\n      <td>67.8</td>\n      <td>66.5</td>\n      <td>...</td>\n      <td>68.4</td>\n      <td>67.6</td>\n      <td>70.4</td>\n      <td>68.8</td>\n      <td>70.1</td>\n      <td>68.4</td>\n      <td>70.8</td>\n      <td>67.4</td>\n      <td>6.0</td>\n      <td>0.00</td>\n    </tr>\n    <tr>\n      <th>2</th>\n      <td>2017-01-01 00:10:00</td>\n      <td>71.6</td>\n      <td>67.6</td>\n      <td>70.2</td>\n      <td>67.4</td>\n      <td>68.7</td>\n      <td>66.1</td>\n      <td>66.8</td>\n      <td>67.8</td>\n      <td>66.2</td>\n      <td>...</td>\n      <td>68.4</td>\n      <td>67.5</td>\n      <td>70.2</td>\n      <td>68.3</td>\n      <td>69.8</td>\n      <td>68.4</td>\n      <td>70.5</td>\n      <td>67.9</td>\n      <td>6.0</td>\n      <td>0.00</td>\n    </tr>\n    <tr>\n      <th>3</th>\n      <td>2017-01-01 00:15:00</td>\n      <td>71.1</td>\n      <td>67.5</td>\n      <td>70.3</td>\n      <td>68.0</td>\n      <td>68.5</td>\n      <td>66.7</td>\n      <td>66.6</td>\n      <td>67.7</td>\n      <td>65.9</td>\n      <td>...</td>\n      <td>68.5</td>\n      <td>67.5</td>\n      <td>70.4</td>\n      <td>68.7</td>\n      <td>70.2</td>\n      <td>68.4</td>\n      <td>70.8</td>\n      <td>67.6</td>\n      <td>6.0</td>\n      <td>0.00</td>\n    </tr>\n    <tr>\n      <th>4</th>\n      <td>2017-01-01 00:20:00</td>\n      <td>71.7</td>\n      <td>67.8</td>\n      <td>70.2</td>\n      <td>68.1</td>\n      <td>68.4</td>\n      <td>66.9</td>\n      <td>66.1</td>\n      <td>67.7</td>\n      <td>66.1</td>\n      <td>...</td>\n      <td>68.5</td>\n      <td>67.4</td>\n      <td>69.6</td>\n      <td>69.1</td>\n      <td>70.0</td>\n      <td>68.4</td>\n      <td>71.0</td>\n      <td>67.9</td>\n      <td>6.0</td>\n      <td>0.00</td>\n    </tr>\n    <tr>\n      <th>...</th>\n      <td>...</td>\n      <td>...</td>\n      <td>...</td>\n      <td>...</td>\n      <td>...</td>\n      <td>...</td>\n      <td>...</td>\n      <td>...</td>\n      <td>...</td>\n      <td>...</td>\n      <td>...</td>\n      <td>...</td>\n      <td>...</td>\n      <td>...</td>\n      <td>...</td>\n      <td>...</td>\n      <td>...</td>\n      <td>...</td>\n      <td>...</td>\n      <td>...</td>\n      <td>...</td>\n    </tr>\n    <tr>\n      <th>52123</th>\n      <td>2017-06-30 23:35:00</td>\n      <td>70.9</td>\n      <td>66.3</td>\n      <td>68.4</td>\n      <td>61.0</td>\n      <td>61.8</td>\n      <td>66.9</td>\n      <td>66.0</td>\n      <td>67.4</td>\n      <td>65.4</td>\n      <td>...</td>\n      <td>64.7</td>\n      <td>61.1</td>\n      <td>68.4</td>\n      <td>61.4</td>\n      <td>70.5</td>\n      <td>68.2</td>\n      <td>71.6</td>\n      <td>66.2</td>\n      <td>12.7</td>\n      <td>0.25</td>\n    </tr>\n    <tr>\n      <th>52124</th>\n      <td>2017-06-30 23:40:00</td>\n      <td>71.3</td>\n      <td>66.6</td>\n      <td>68.7</td>\n      <td>60.9</td>\n      <td>62.0</td>\n      <td>66.2</td>\n      <td>66.5</td>\n      <td>68.2</td>\n      <td>64.9</td>\n      <td>...</td>\n      <td>64.8</td>\n      <td>60.8</td>\n      <td>69.8</td>\n      <td>62.2</td>\n      <td>69.4</td>\n      <td>68.6</td>\n      <td>71.6</td>\n      <td>68.4</td>\n      <td>12.7</td>\n      <td>0.25</td>\n    </tr>\n    <tr>\n      <th>52125</th>\n      <td>2017-06-30 23:45:00</td>\n      <td>71.4</td>\n      <td>66.9</td>\n      <td>68.1</td>\n      <td>61.1</td>\n      <td>62.0</td>\n      <td>66.7</td>\n      <td>65.8</td>\n      <td>68.2</td>\n      <td>64.2</td>\n      <td>...</td>\n      <td>64.6</td>\n      <td>61.3</td>\n      <td>69.5</td>\n      <td>63.8</td>\n      <td>70.6</td>\n      <td>68.4</td>\n      <td>71.6</td>\n      <td>66.6</td>\n      <td>12.7</td>\n      <td>0.25</td>\n    </tr>\n    <tr>\n      <th>52126</th>\n      <td>2017-06-30 23:50:00</td>\n      <td>72.2</td>\n      <td>66.5</td>\n      <td>68.0</td>\n      <td>61.1</td>\n      <td>62.5</td>\n      <td>65.8</td>\n      <td>67.1</td>\n      <td>68.3</td>\n      <td>64.0</td>\n      <td>...</td>\n      <td>64.8</td>\n      <td>61.3</td>\n      <td>69.6</td>\n      <td>64.2</td>\n      <td>70.2</td>\n      <td>68.7</td>\n      <td>71.6</td>\n      <td>68.4</td>\n      <td>12.7</td>\n      <td>0.25</td>\n    </tr>\n    <tr>\n      <th>52127</th>\n      <td>2017-06-30 23:55:00</td>\n      <td>71.5</td>\n      <td>66.2</td>\n      <td>68.4</td>\n      <td>61.5</td>\n      <td>62.8</td>\n      <td>66.1</td>\n      <td>67.7</td>\n      <td>68.4</td>\n      <td>64.9</td>\n      <td>...</td>\n      <td>64.8</td>\n      <td>60.9</td>\n      <td>70.9</td>\n      <td>63.4</td>\n      <td>70.3</td>\n      <td>68.7</td>\n      <td>71.6</td>\n      <td>68.0</td>\n      <td>12.7</td>\n      <td>0.25</td>\n    </tr>\n  </tbody>\n</table>\n<p>52128 rows × 328 columns</p>\n</div>"
     },
     "metadata": {},
     "output_type": "execute_result",
     "execution_count": 13
    }
   ],
   "source": [
    "df_join.rename(columns={'Unnamed: 0':'Date'})"
   ],
   "metadata": {
    "collapsed": false,
    "pycharm": {
     "name": "#%%\n",
     "is_executing": false
    }
   }
  },
  {
   "cell_type": "code",
   "execution_count": 14,
   "outputs": [],
   "source": [
    "df_join.to_hdf('merge.h5', key='df', mode='w')\n"
   ],
   "metadata": {
    "collapsed": false,
    "pycharm": {
     "name": "#%%\n",
     "is_executing": false
    }
   }
  }
 ],
 "metadata": {
  "kernelspec": {
   "display_name": "Python 3",
   "language": "python",
   "name": "python3"
  },
  "language_info": {
   "codemirror_mode": {
    "name": "ipython",
    "version": 2
   },
   "file_extension": ".py",
   "mimetype": "text/x-python",
   "name": "python",
   "nbconvert_exporter": "python",
   "pygments_lexer": "ipython2",
   "version": "2.7.6"
  },
  "pycharm": {
   "stem_cell": {
    "cell_type": "raw",
    "source": [],
    "metadata": {
     "collapsed": false
    }
   }
  }
 },
 "nbformat": 4,
 "nbformat_minor": 0
}