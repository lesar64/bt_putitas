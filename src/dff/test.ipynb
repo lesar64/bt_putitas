{
 "cells": [
  {
   "cell_type": "code",
   "execution_count": 34,
   "metadata": {
    "collapsed": true,
    "pycharm": {
     "is_executing": false
    }
   },
   "outputs": [],
   "source": [
    "import pandas as pd\n",
    "import numpy as np\n",
    "# df_i = pandas.read_hdf('df_pred_out_dff.h5', key='df')\n",
    "# df_o = pandas.read_hdf('df_pred_in_dff.h5', key='df')\n",
    "# df_p = pandas.read_hdf('df_pred_dff.h5', key='df')\n",
    "\n",
    "acc_iter = pd.DataFrame(index=range(3),columns=['Accuracy']).fillna(0)\n",
    "# accuracy_data = np.empty((3,1))\n",
    "accuracy_data = np.empty(3)\n",
    "accuracy_data.fill(2)\n",
    "# accuracy_data.tolist()\n",
    "# acc_iter = pd.DataFrame(acc_iter['Accuracy'] + accuracy_data.tolist())\n",
    "acc_iter['Accuracy'] = acc_iter['Accuracy'] + accuracy_data[0]"
   ]
  }
 ],
 "metadata": {
  "kernelspec": {
   "display_name": "Python 3",
   "language": "python",
   "name": "python3"
  },
  "language_info": {
   "codemirror_mode": {
    "name": "ipython",
    "version": 2
   },
   "file_extension": ".py",
   "mimetype": "text/x-python",
   "name": "python",
   "nbconvert_exporter": "python",
   "pygments_lexer": "ipython2",
   "version": "2.7.6"
  },
  "pycharm": {
   "stem_cell": {
    "cell_type": "raw",
    "source": [],
    "metadata": {
     "collapsed": false
    }
   }
  }
 },
 "nbformat": 4,
 "nbformat_minor": 0
}